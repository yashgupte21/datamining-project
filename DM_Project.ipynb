{
  "nbformat": 4,
  "nbformat_minor": 0,
  "metadata": {
    "colab": {
      "name": "CS422_DM_Project.ipynb",
      "provenance": [],
      "collapsed_sections": []
    },
    "kernelspec": {
      "display_name": "Python 3",
      "name": "python3"
    },
    "language_info": {
      "name": "python"
    }
  },
  "cells": [
    {
      "cell_type": "markdown",
      "metadata": {
        "id": "3tX5WuYiS8ig"
      },
      "source": [
        "**CS422 DATA MINING PROJECT** \\\n",
        "**Yash Pradeep Gupte** \\\n",
        "**CWID : A20472798** \\\n",
        "\n"
      ]
    },
    {
      "cell_type": "markdown",
      "metadata": {
        "id": "Tgf3H9EMkWTo"
      },
      "source": [
        "**[1] Abstract :**  This project evalutes models and how well these models generalise the out of sample dataset. I have presented different data mining techniques to evalute the importance of features, performace of model based on accuracy. I learned how a multi class classification problem can be broken down into simpler tasks like Binary classification. Features play an important role in deciding the model performs. In some cases, dropping or adding features can make substantial difference in the model accuracy. I also learned that class imblance play another major role in decidin how well a model performs.  \n"
      ]
    },
    {
      "cell_type": "code",
      "metadata": {
        "colab": {
          "base_uri": "https://localhost:8080/"
        },
        "id": "fPLGHz4VRxsG",
        "outputId": "325f3253-e69c-4529-e6d3-30ec9a6f8ce0"
      },
      "source": [
        "!pip install skl2onnx\n",
        "!pip install onnxruntime"
      ],
      "execution_count": 2,
      "outputs": [
        {
          "output_type": "stream",
          "text": [
            "Collecting skl2onnx\n",
            "\u001b[?25l  Downloading https://files.pythonhosted.org/packages/2e/2e/efe7874c6b92ce4dd262b58a2860e9bf50097c68588114a542b29affca46/skl2onnx-1.8.0-py2.py3-none-any.whl (230kB)\n",
            "\r\u001b[K     |█▍                              | 10kB 18.8MB/s eta 0:00:01\r\u001b[K     |██▉                             | 20kB 26.8MB/s eta 0:00:01\r\u001b[K     |████▎                           | 30kB 32.3MB/s eta 0:00:01\r\u001b[K     |█████▊                          | 40kB 17.8MB/s eta 0:00:01\r\u001b[K     |███████▏                        | 51kB 13.3MB/s eta 0:00:01\r\u001b[K     |████████▌                       | 61kB 14.4MB/s eta 0:00:01\r\u001b[K     |██████████                      | 71kB 11.3MB/s eta 0:00:01\r\u001b[K     |███████████▍                    | 81kB 12.2MB/s eta 0:00:01\r\u001b[K     |████████████▉                   | 92kB 12.1MB/s eta 0:00:01\r\u001b[K     |██████████████▎                 | 102kB 11.5MB/s eta 0:00:01\r\u001b[K     |███████████████▋                | 112kB 11.5MB/s eta 0:00:01\r\u001b[K     |█████████████████               | 122kB 11.5MB/s eta 0:00:01\r\u001b[K     |██████████████████▌             | 133kB 11.5MB/s eta 0:00:01\r\u001b[K     |████████████████████            | 143kB 11.5MB/s eta 0:00:01\r\u001b[K     |█████████████████████▍          | 153kB 11.5MB/s eta 0:00:01\r\u001b[K     |██████████████████████▉         | 163kB 11.5MB/s eta 0:00:01\r\u001b[K     |████████████████████████▏       | 174kB 11.5MB/s eta 0:00:01\r\u001b[K     |█████████████████████████▋      | 184kB 11.5MB/s eta 0:00:01\r\u001b[K     |███████████████████████████     | 194kB 11.5MB/s eta 0:00:01\r\u001b[K     |████████████████████████████▌   | 204kB 11.5MB/s eta 0:00:01\r\u001b[K     |██████████████████████████████  | 215kB 11.5MB/s eta 0:00:01\r\u001b[K     |███████████████████████████████▎| 225kB 11.5MB/s eta 0:00:01\r\u001b[K     |████████████████████████████████| 235kB 11.5MB/s \n",
            "\u001b[?25hRequirement already satisfied: protobuf in /usr/local/lib/python3.7/dist-packages (from skl2onnx) (3.12.4)\n",
            "Requirement already satisfied: numpy>=1.15 in /usr/local/lib/python3.7/dist-packages (from skl2onnx) (1.19.5)\n",
            "Requirement already satisfied: six in /usr/local/lib/python3.7/dist-packages (from skl2onnx) (1.15.0)\n",
            "Collecting onnxconverter-common<1.9,>=1.6.1\n",
            "\u001b[?25l  Downloading https://files.pythonhosted.org/packages/42/f5/82c29029a643dd4de8e0374fe2d5831f50ca58623dd1ee41e0b8df8a7d71/onnxconverter_common-1.8.1-py2.py3-none-any.whl (77kB)\n",
            "\u001b[K     |████████████████████████████████| 81kB 4.6MB/s \n",
            "\u001b[?25hCollecting onnx>=1.2.1\n",
            "\u001b[?25l  Downloading https://files.pythonhosted.org/packages/3f/9b/54c950d3256e27f970a83cd0504efb183a24312702deed0179453316dbd0/onnx-1.9.0-cp37-cp37m-manylinux2010_x86_64.whl (12.2MB)\n",
            "\u001b[K     |████████████████████████████████| 12.2MB 25.3MB/s \n",
            "\u001b[?25hRequirement already satisfied: scikit-learn>=0.19 in /usr/local/lib/python3.7/dist-packages (from skl2onnx) (0.22.2.post1)\n",
            "Requirement already satisfied: scipy>=1.0 in /usr/local/lib/python3.7/dist-packages (from skl2onnx) (1.4.1)\n",
            "Requirement already satisfied: setuptools in /usr/local/lib/python3.7/dist-packages (from protobuf->skl2onnx) (56.0.0)\n",
            "Requirement already satisfied: typing-extensions>=3.6.2.1 in /usr/local/lib/python3.7/dist-packages (from onnx>=1.2.1->skl2onnx) (3.7.4.3)\n",
            "Requirement already satisfied: joblib>=0.11 in /usr/local/lib/python3.7/dist-packages (from scikit-learn>=0.19->skl2onnx) (1.0.1)\n",
            "Installing collected packages: onnx, onnxconverter-common, skl2onnx\n",
            "Successfully installed onnx-1.9.0 onnxconverter-common-1.8.1 skl2onnx-1.8.0\n",
            "Collecting onnxruntime\n",
            "\u001b[?25l  Downloading https://files.pythonhosted.org/packages/0c/f0/666d6e3ceaa276a54e728f9972732e058544cbb6a3e1a778a8d6f87132c1/onnxruntime-1.7.0-cp37-cp37m-manylinux2014_x86_64.whl (4.1MB)\n",
            "\u001b[K     |████████████████████████████████| 4.1MB 10.5MB/s \n",
            "\u001b[?25hRequirement already satisfied: protobuf in /usr/local/lib/python3.7/dist-packages (from onnxruntime) (3.12.4)\n",
            "Requirement already satisfied: numpy>=1.16.6 in /usr/local/lib/python3.7/dist-packages (from onnxruntime) (1.19.5)\n",
            "Requirement already satisfied: six>=1.9 in /usr/local/lib/python3.7/dist-packages (from protobuf->onnxruntime) (1.15.0)\n",
            "Requirement already satisfied: setuptools in /usr/local/lib/python3.7/dist-packages (from protobuf->onnxruntime) (56.0.0)\n",
            "Installing collected packages: onnxruntime\n",
            "Successfully installed onnxruntime-1.7.0\n"
          ],
          "name": "stdout"
        }
      ]
    },
    {
      "cell_type": "code",
      "metadata": {
        "colab": {
          "base_uri": "https://localhost:8080/"
        },
        "id": "G4M7TXvmV4hS",
        "outputId": "f20f1fdf-7207-44f4-8612-e28f2066e23a"
      },
      "source": [
        "#Mount Drive \n",
        "import os\n",
        "\n",
        "# Mount drive if not mounted already & change current working directory to MyDrive\n",
        "if not os.path.exists('/content/drive/'):\n",
        "  from google.colab import drive\n",
        "  drive.mount('/content/drive/')\n",
        "\n",
        "if os.path.exists('/content/drive'):\n",
        "  os.chdir('drive/My Drive')\n",
        "  print('Current working directory:', os.getcwd())"
      ],
      "execution_count": 3,
      "outputs": [
        {
          "output_type": "stream",
          "text": [
            "Mounted at /content/drive/\n",
            "Current working directory: /content/drive/My Drive\n"
          ],
          "name": "stdout"
        }
      ]
    },
    {
      "cell_type": "code",
      "metadata": {
        "colab": {
          "base_uri": "https://localhost:8080/"
        },
        "id": "DMVB_EgHWE50",
        "outputId": "283a5338-60cf-45a6-bee0-b8307f0f6289"
      },
      "source": [
        "ls"
      ],
      "execution_count": 4,
      "outputs": [
        {
          "output_type": "stream",
          "text": [
            "\u001b[0m\u001b[01;34m'Colab Notebooks'\u001b[0m/          CS577_DL_AS2_Report2.gdoc\n",
            " \u001b[01;34mCS422_DataMining\u001b[0m/          CS577_DL_AS3_Report2.gdoc\n",
            " CS422_DM_HW1.gdoc          CS577_DL_AS4_Report2.gdoc\n",
            " CS422_DM_HW2.gdoc         'CS577_Project document.gdoc'\n",
            " CS422_DM_HW4.gdoc         'CS577_Yash&Namita_Project_Proposal.gdoc'\n",
            " CS553_CC_HW1.gdoc          hw1-report.gdoc\n",
            " CS553_CC_HW2.gdoc          YashPradeepGupte_CS553_CC_HW3.gdoc\n",
            " CS553_CC_hw4_report.gdoc   YashPradeepGupte_CS577_AS1_Report.gdoc\n",
            " CS553_CC_hw5_report.gdoc   YashPradeepGupte_Resume.pdf\n",
            " \u001b[01;34mCS577_DeepLearning\u001b[0m/        YG_CS422_DM_HW3.gdoc\n"
          ],
          "name": "stdout"
        }
      ]
    },
    {
      "cell_type": "code",
      "metadata": {
        "colab": {
          "base_uri": "https://localhost:8080/"
        },
        "id": "yW0Q2pCmWGCn",
        "outputId": "9ffc1aed-f797-43de-ba8e-bcb11eb9a02f"
      },
      "source": [
        "cd CS422_DataMining/"
      ],
      "execution_count": 5,
      "outputs": [
        {
          "output_type": "stream",
          "text": [
            "/content/drive/My Drive/CS422_DataMining\n"
          ],
          "name": "stdout"
        }
      ]
    },
    {
      "cell_type": "code",
      "metadata": {
        "colab": {
          "base_uri": "https://localhost:8080/"
        },
        "id": "OWGt36U7WHu4",
        "outputId": "e6d1071d-8565-4be3-fb7b-6f121c9c2db5"
      },
      "source": [
        "ls"
      ],
      "execution_count": 6,
      "outputs": [
        {
          "output_type": "stream",
          "text": [
            "75000-out2-binary.csv  data_public.csv.gz\n"
          ],
          "name": "stdout"
        }
      ]
    },
    {
      "cell_type": "code",
      "metadata": {
        "id": "qkVDR0jbR2B1"
      },
      "source": [
        "import os\n",
        "\n",
        "import numpy as np\n",
        "import pandas as pd\n",
        "\n",
        "\n",
        "import matplotlib.pyplot as plt\n",
        "%matplotlib inline\n",
        "from sklearn.datasets import load_iris\n",
        "\n",
        "from sklearn.impute import SimpleImputer\n",
        "from sklearn.preprocessing import StandardScaler\n",
        "from sklearn.preprocessing import MinMaxScaler\n",
        "from sklearn.model_selection import train_test_split\n",
        "from sklearn.metrics import classification_report\n",
        "\n",
        "from sklearn.tree import DecisionTreeClassifier\n",
        "from sklearn.ensemble import RandomForestClassifier\n",
        "from sklearn.cluster import KMeans\n",
        "from sklearn.linear_model import LogisticRegression\n",
        "\n",
        "\n",
        "from sklearn.feature_selection import SelectKBest\n",
        "from sklearn.feature_selection import chi2\n",
        "\n",
        "\n",
        "from sklearn.compose import ColumnTransformer, make_column_transformer\n",
        "from sklearn.pipeline import Pipeline\n",
        "\n",
        "from sklearn import metrics\n",
        "\n",
        "from sklearn.decomposition import PCA\n",
        "\n",
        "from skl2onnx.common.data_types import FloatTensorType\n",
        "from skl2onnx import convert_sklearn\n",
        "\n",
        "import onnxruntime as rt\n",
        "\n",
        "from onnx.tools.net_drawer import GetPydotGraph, GetOpNodeProducer\n",
        "\n",
        "import graphviz\n",
        "\n"
      ],
      "execution_count": 8,
      "outputs": []
    },
    {
      "cell_type": "markdown",
      "metadata": {
        "id": "wsnWOvEPk6kH"
      },
      "source": [
        "**[2] Overview:** \\\n",
        "\n",
        "Problem Statement : The objective of this project is to analyze the given dataset, perform various data mining techniques and produce insights on how a selected model generalises the data. \n",
        "\n",
        "\n"
      ]
    },
    {
      "cell_type": "markdown",
      "metadata": {
        "id": "esCx1hYyqXVT"
      },
      "source": [
        "Proposed Methodology :  In this project I am creating Pipelines which consists of different functions like Standard scalar, PCA and Classification. This pipeline consist of a model which is trained on the dataset. I have implemented Binary classification as well as Non linear combination of features. All the models are tested / evaluted on basis of accuracy metrics."
      ]
    },
    {
      "cell_type": "markdown",
      "metadata": {
        "id": "6ieqmVeZq0cv"
      },
      "source": [
        "**[3] Data Processing and Data Analysis**"
      ]
    },
    {
      "cell_type": "code",
      "metadata": {
        "colab": {
          "base_uri": "https://localhost:8080/",
          "height": 224
        },
        "id": "soy_oEaCR1_e",
        "outputId": "1bc6814d-e87f-4b5e-c62e-ab34fadcd4fc"
      },
      "source": [
        "data_df = pd.read_csv(\"data_public.csv.gz\", compression='gzip',header=0,sep=',', quotechar='\"')\n",
        "data_df.head()"
      ],
      "execution_count": 9,
      "outputs": [
        {
          "output_type": "execute_result",
          "data": {
            "text/html": [
              "<div>\n",
              "<style scoped>\n",
              "    .dataframe tbody tr th:only-of-type {\n",
              "        vertical-align: middle;\n",
              "    }\n",
              "\n",
              "    .dataframe tbody tr th {\n",
              "        vertical-align: top;\n",
              "    }\n",
              "\n",
              "    .dataframe thead th {\n",
              "        text-align: right;\n",
              "    }\n",
              "</style>\n",
              "<table border=\"1\" class=\"dataframe\">\n",
              "  <thead>\n",
              "    <tr style=\"text-align: right;\">\n",
              "      <th></th>\n",
              "      <th>A</th>\n",
              "      <th>B</th>\n",
              "      <th>C</th>\n",
              "      <th>D</th>\n",
              "      <th>E</th>\n",
              "      <th>F</th>\n",
              "      <th>G</th>\n",
              "      <th>H</th>\n",
              "      <th>I</th>\n",
              "      <th>J</th>\n",
              "      <th>K</th>\n",
              "      <th>L</th>\n",
              "      <th>M</th>\n",
              "      <th>N</th>\n",
              "      <th>O</th>\n",
              "      <th>Class</th>\n",
              "    </tr>\n",
              "  </thead>\n",
              "  <tbody>\n",
              "    <tr>\n",
              "      <th>0</th>\n",
              "      <td>231.420023</td>\n",
              "      <td>-12.210984</td>\n",
              "      <td>217.624839</td>\n",
              "      <td>-15.611916</td>\n",
              "      <td>140.047185</td>\n",
              "      <td>76.904999</td>\n",
              "      <td>131.591871</td>\n",
              "      <td>198.160805</td>\n",
              "      <td>82.873279</td>\n",
              "      <td>127.350084</td>\n",
              "      <td>224.592926</td>\n",
              "      <td>-5.992983</td>\n",
              "      <td>-14.689648</td>\n",
              "      <td>143.072058</td>\n",
              "      <td>153.439659</td>\n",
              "      <td>2</td>\n",
              "    </tr>\n",
              "    <tr>\n",
              "      <th>1</th>\n",
              "      <td>-38.019270</td>\n",
              "      <td>-14.195695</td>\n",
              "      <td>9.583547</td>\n",
              "      <td>22.293822</td>\n",
              "      <td>-25.578283</td>\n",
              "      <td>-18.373955</td>\n",
              "      <td>-0.094457</td>\n",
              "      <td>-33.711852</td>\n",
              "      <td>-8.356041</td>\n",
              "      <td>23.792402</td>\n",
              "      <td>4.199023</td>\n",
              "      <td>2.809159</td>\n",
              "      <td>-59.330681</td>\n",
              "      <td>-11.685950</td>\n",
              "      <td>1.317104</td>\n",
              "      <td>3</td>\n",
              "    </tr>\n",
              "    <tr>\n",
              "      <th>2</th>\n",
              "      <td>-39.197085</td>\n",
              "      <td>-20.418850</td>\n",
              "      <td>21.023083</td>\n",
              "      <td>19.790280</td>\n",
              "      <td>-25.902587</td>\n",
              "      <td>-19.189004</td>\n",
              "      <td>-2.953836</td>\n",
              "      <td>-25.299219</td>\n",
              "      <td>-6.612401</td>\n",
              "      <td>26.285392</td>\n",
              "      <td>5.911292</td>\n",
              "      <td>6.191587</td>\n",
              "      <td>-56.924996</td>\n",
              "      <td>-4.675187</td>\n",
              "      <td>-1.027830</td>\n",
              "      <td>2</td>\n",
              "    </tr>\n",
              "    <tr>\n",
              "      <th>3</th>\n",
              "      <td>221.630408</td>\n",
              "      <td>-5.785352</td>\n",
              "      <td>216.725322</td>\n",
              "      <td>-9.900781</td>\n",
              "      <td>126.795177</td>\n",
              "      <td>85.122288</td>\n",
              "      <td>108.857593</td>\n",
              "      <td>197.640135</td>\n",
              "      <td>82.560019</td>\n",
              "      <td>157.105143</td>\n",
              "      <td>212.989231</td>\n",
              "      <td>-3.621070</td>\n",
              "      <td>-15.469156</td>\n",
              "      <td>135.265859</td>\n",
              "      <td>149.212489</td>\n",
              "      <td>2</td>\n",
              "    </tr>\n",
              "    <tr>\n",
              "      <th>4</th>\n",
              "      <td>228.558412</td>\n",
              "      <td>-12.447710</td>\n",
              "      <td>204.637218</td>\n",
              "      <td>-13.277704</td>\n",
              "      <td>138.930529</td>\n",
              "      <td>91.101870</td>\n",
              "      <td>115.598954</td>\n",
              "      <td>209.300011</td>\n",
              "      <td>89.961688</td>\n",
              "      <td>130.299732</td>\n",
              "      <td>201.795100</td>\n",
              "      <td>-1.573922</td>\n",
              "      <td>-15.128603</td>\n",
              "      <td>148.368622</td>\n",
              "      <td>147.492663</td>\n",
              "      <td>3</td>\n",
              "    </tr>\n",
              "  </tbody>\n",
              "</table>\n",
              "</div>"
            ],
            "text/plain": [
              "            A          B           C  ...           N           O  Class\n",
              "0  231.420023 -12.210984  217.624839  ...  143.072058  153.439659      2\n",
              "1  -38.019270 -14.195695    9.583547  ...  -11.685950    1.317104      3\n",
              "2  -39.197085 -20.418850   21.023083  ...   -4.675187   -1.027830      2\n",
              "3  221.630408  -5.785352  216.725322  ...  135.265859  149.212489      2\n",
              "4  228.558412 -12.447710  204.637218  ...  148.368622  147.492663      3\n",
              "\n",
              "[5 rows x 16 columns]"
            ]
          },
          "metadata": {
            "tags": []
          },
          "execution_count": 9
        }
      ]
    },
    {
      "cell_type": "markdown",
      "metadata": {
        "id": "BlEtoXp1q-cn"
      },
      "source": [
        "[3.1] Summary statistics : First I am checking for missing values or null values in the dataset."
      ]
    },
    {
      "cell_type": "code",
      "metadata": {
        "colab": {
          "base_uri": "https://localhost:8080/"
        },
        "id": "CGp95R7xtSEh",
        "outputId": "67a4d925-ce30-4384-e731-438e2c2be9f3"
      },
      "source": [
        "data_df.isnull().sum()"
      ],
      "execution_count": 10,
      "outputs": [
        {
          "output_type": "execute_result",
          "data": {
            "text/plain": [
              "A        0\n",
              "B        0\n",
              "C        0\n",
              "D        0\n",
              "E        0\n",
              "F        0\n",
              "G        0\n",
              "H        0\n",
              "I        0\n",
              "J        0\n",
              "K        0\n",
              "L        0\n",
              "M        0\n",
              "N        0\n",
              "O        0\n",
              "Class    0\n",
              "dtype: int64"
            ]
          },
          "metadata": {
            "tags": []
          },
          "execution_count": 10
        }
      ]
    },
    {
      "cell_type": "markdown",
      "metadata": {
        "id": "DZIrAXyVrLZs"
      },
      "source": [
        "From the above results we can see that there are no NULL values in the dataset. Hence we could now proceed with performing standard scaling of the dataset."
      ]
    },
    {
      "cell_type": "code",
      "metadata": {
        "colab": {
          "base_uri": "https://localhost:8080/",
          "height": 545
        },
        "id": "lVQERJqp2tGn",
        "outputId": "6792099e-ce46-48cc-d782-9ece6defd855"
      },
      "source": [
        "data_df.corr()"
      ],
      "execution_count": 11,
      "outputs": [
        {
          "output_type": "execute_result",
          "data": {
            "text/html": [
              "<div>\n",
              "<style scoped>\n",
              "    .dataframe tbody tr th:only-of-type {\n",
              "        vertical-align: middle;\n",
              "    }\n",
              "\n",
              "    .dataframe tbody tr th {\n",
              "        vertical-align: top;\n",
              "    }\n",
              "\n",
              "    .dataframe thead th {\n",
              "        text-align: right;\n",
              "    }\n",
              "</style>\n",
              "<table border=\"1\" class=\"dataframe\">\n",
              "  <thead>\n",
              "    <tr style=\"text-align: right;\">\n",
              "      <th></th>\n",
              "      <th>A</th>\n",
              "      <th>B</th>\n",
              "      <th>C</th>\n",
              "      <th>D</th>\n",
              "      <th>E</th>\n",
              "      <th>F</th>\n",
              "      <th>G</th>\n",
              "      <th>H</th>\n",
              "      <th>I</th>\n",
              "      <th>J</th>\n",
              "      <th>K</th>\n",
              "      <th>L</th>\n",
              "      <th>M</th>\n",
              "      <th>N</th>\n",
              "      <th>O</th>\n",
              "      <th>Class</th>\n",
              "    </tr>\n",
              "  </thead>\n",
              "  <tbody>\n",
              "    <tr>\n",
              "      <th>A</th>\n",
              "      <td>1.000000</td>\n",
              "      <td>0.455949</td>\n",
              "      <td>0.991999</td>\n",
              "      <td>0.071330</td>\n",
              "      <td>0.990703</td>\n",
              "      <td>0.905353</td>\n",
              "      <td>0.972223</td>\n",
              "      <td>0.988807</td>\n",
              "      <td>0.818399</td>\n",
              "      <td>0.870016</td>\n",
              "      <td>0.968827</td>\n",
              "      <td>0.139619</td>\n",
              "      <td>0.958931</td>\n",
              "      <td>0.953081</td>\n",
              "      <td>0.920322</td>\n",
              "      <td>-0.000620</td>\n",
              "    </tr>\n",
              "    <tr>\n",
              "      <th>B</th>\n",
              "      <td>0.455949</td>\n",
              "      <td>1.000000</td>\n",
              "      <td>0.541742</td>\n",
              "      <td>0.865856</td>\n",
              "      <td>0.352946</td>\n",
              "      <td>0.760708</td>\n",
              "      <td>0.620607</td>\n",
              "      <td>0.339549</td>\n",
              "      <td>-0.098558</td>\n",
              "      <td>0.803246</td>\n",
              "      <td>0.246429</td>\n",
              "      <td>0.854635</td>\n",
              "      <td>0.345030</td>\n",
              "      <td>0.194578</td>\n",
              "      <td>0.098805</td>\n",
              "      <td>0.000138</td>\n",
              "    </tr>\n",
              "    <tr>\n",
              "      <th>C</th>\n",
              "      <td>0.991999</td>\n",
              "      <td>0.541742</td>\n",
              "      <td>1.000000</td>\n",
              "      <td>0.176224</td>\n",
              "      <td>0.971805</td>\n",
              "      <td>0.943482</td>\n",
              "      <td>0.988351</td>\n",
              "      <td>0.968342</td>\n",
              "      <td>0.753474</td>\n",
              "      <td>0.915784</td>\n",
              "      <td>0.937868</td>\n",
              "      <td>0.238723</td>\n",
              "      <td>0.941040</td>\n",
              "      <td>0.916578</td>\n",
              "      <td>0.873800</td>\n",
              "      <td>-0.000686</td>\n",
              "    </tr>\n",
              "    <tr>\n",
              "      <th>D</th>\n",
              "      <td>0.071330</td>\n",
              "      <td>0.865856</td>\n",
              "      <td>0.176224</td>\n",
              "      <td>1.000000</td>\n",
              "      <td>-0.047459</td>\n",
              "      <td>0.477183</td>\n",
              "      <td>0.279248</td>\n",
              "      <td>-0.062451</td>\n",
              "      <td>-0.502643</td>\n",
              "      <td>0.544357</td>\n",
              "      <td>-0.163679</td>\n",
              "      <td>0.949485</td>\n",
              "      <td>-0.042057</td>\n",
              "      <td>-0.217856</td>\n",
              "      <td>-0.316241</td>\n",
              "      <td>0.000150</td>\n",
              "    </tr>\n",
              "    <tr>\n",
              "      <th>E</th>\n",
              "      <td>0.990703</td>\n",
              "      <td>0.352946</td>\n",
              "      <td>0.971805</td>\n",
              "      <td>-0.047459</td>\n",
              "      <td>1.000000</td>\n",
              "      <td>0.849129</td>\n",
              "      <td>0.939705</td>\n",
              "      <td>0.997116</td>\n",
              "      <td>0.879142</td>\n",
              "      <td>0.805749</td>\n",
              "      <td>0.989217</td>\n",
              "      <td>0.026319</td>\n",
              "      <td>0.964769</td>\n",
              "      <td>0.979925</td>\n",
              "      <td>0.958885</td>\n",
              "      <td>-0.000649</td>\n",
              "    </tr>\n",
              "    <tr>\n",
              "      <th>F</th>\n",
              "      <td>0.905353</td>\n",
              "      <td>0.760708</td>\n",
              "      <td>0.943482</td>\n",
              "      <td>0.477183</td>\n",
              "      <td>0.849129</td>\n",
              "      <td>1.000000</td>\n",
              "      <td>0.969055</td>\n",
              "      <td>0.841227</td>\n",
              "      <td>0.508345</td>\n",
              "      <td>0.989868</td>\n",
              "      <td>0.781534</td>\n",
              "      <td>0.518117</td>\n",
              "      <td>0.823551</td>\n",
              "      <td>0.745156</td>\n",
              "      <td>0.675416</td>\n",
              "      <td>-0.000540</td>\n",
              "    </tr>\n",
              "    <tr>\n",
              "      <th>G</th>\n",
              "      <td>0.972223</td>\n",
              "      <td>0.620607</td>\n",
              "      <td>0.988351</td>\n",
              "      <td>0.279248</td>\n",
              "      <td>0.939705</td>\n",
              "      <td>0.969055</td>\n",
              "      <td>1.000000</td>\n",
              "      <td>0.934714</td>\n",
              "      <td>0.678043</td>\n",
              "      <td>0.949429</td>\n",
              "      <td>0.894114</td>\n",
              "      <td>0.335039</td>\n",
              "      <td>0.910385</td>\n",
              "      <td>0.867546</td>\n",
              "      <td>0.815281</td>\n",
              "      <td>-0.000472</td>\n",
              "    </tr>\n",
              "    <tr>\n",
              "      <th>H</th>\n",
              "      <td>0.988807</td>\n",
              "      <td>0.339549</td>\n",
              "      <td>0.968342</td>\n",
              "      <td>-0.062451</td>\n",
              "      <td>0.997116</td>\n",
              "      <td>0.841227</td>\n",
              "      <td>0.934714</td>\n",
              "      <td>1.000000</td>\n",
              "      <td>0.886017</td>\n",
              "      <td>0.796856</td>\n",
              "      <td>0.990875</td>\n",
              "      <td>0.012005</td>\n",
              "      <td>0.964627</td>\n",
              "      <td>0.982403</td>\n",
              "      <td>0.962873</td>\n",
              "      <td>-0.000670</td>\n",
              "    </tr>\n",
              "    <tr>\n",
              "      <th>I</th>\n",
              "      <td>0.818399</td>\n",
              "      <td>-0.098558</td>\n",
              "      <td>0.753474</td>\n",
              "      <td>-0.502643</td>\n",
              "      <td>0.879142</td>\n",
              "      <td>0.508345</td>\n",
              "      <td>0.678043</td>\n",
              "      <td>0.886017</td>\n",
              "      <td>1.000000</td>\n",
              "      <td>0.439881</td>\n",
              "      <td>0.926217</td>\n",
              "      <td>-0.418110</td>\n",
              "      <td>0.848801</td>\n",
              "      <td>0.943365</td>\n",
              "      <td>0.970965</td>\n",
              "      <td>-0.000766</td>\n",
              "    </tr>\n",
              "    <tr>\n",
              "      <th>J</th>\n",
              "      <td>0.870016</td>\n",
              "      <td>0.803246</td>\n",
              "      <td>0.915784</td>\n",
              "      <td>0.544357</td>\n",
              "      <td>0.805749</td>\n",
              "      <td>0.989868</td>\n",
              "      <td>0.949429</td>\n",
              "      <td>0.796856</td>\n",
              "      <td>0.439881</td>\n",
              "      <td>1.000000</td>\n",
              "      <td>0.730841</td>\n",
              "      <td>0.579309</td>\n",
              "      <td>0.781815</td>\n",
              "      <td>0.691273</td>\n",
              "      <td>0.615931</td>\n",
              "      <td>-0.000333</td>\n",
              "    </tr>\n",
              "    <tr>\n",
              "      <th>K</th>\n",
              "      <td>0.968827</td>\n",
              "      <td>0.246429</td>\n",
              "      <td>0.937868</td>\n",
              "      <td>-0.163679</td>\n",
              "      <td>0.989217</td>\n",
              "      <td>0.781534</td>\n",
              "      <td>0.894114</td>\n",
              "      <td>0.990875</td>\n",
              "      <td>0.926217</td>\n",
              "      <td>0.730841</td>\n",
              "      <td>1.000000</td>\n",
              "      <td>-0.085543</td>\n",
              "      <td>0.956598</td>\n",
              "      <td>0.992158</td>\n",
              "      <td>0.982980</td>\n",
              "      <td>-0.000693</td>\n",
              "    </tr>\n",
              "    <tr>\n",
              "      <th>L</th>\n",
              "      <td>0.139619</td>\n",
              "      <td>0.854635</td>\n",
              "      <td>0.238723</td>\n",
              "      <td>0.949485</td>\n",
              "      <td>0.026319</td>\n",
              "      <td>0.518117</td>\n",
              "      <td>0.335039</td>\n",
              "      <td>0.012005</td>\n",
              "      <td>-0.418110</td>\n",
              "      <td>0.579309</td>\n",
              "      <td>-0.085543</td>\n",
              "      <td>1.000000</td>\n",
              "      <td>0.029013</td>\n",
              "      <td>-0.138097</td>\n",
              "      <td>-0.233820</td>\n",
              "      <td>0.000094</td>\n",
              "    </tr>\n",
              "    <tr>\n",
              "      <th>M</th>\n",
              "      <td>0.958931</td>\n",
              "      <td>0.345030</td>\n",
              "      <td>0.941040</td>\n",
              "      <td>-0.042057</td>\n",
              "      <td>0.964769</td>\n",
              "      <td>0.823551</td>\n",
              "      <td>0.910385</td>\n",
              "      <td>0.964627</td>\n",
              "      <td>0.848801</td>\n",
              "      <td>0.781815</td>\n",
              "      <td>0.956598</td>\n",
              "      <td>0.029013</td>\n",
              "      <td>1.000000</td>\n",
              "      <td>0.947381</td>\n",
              "      <td>0.926620</td>\n",
              "      <td>-0.000662</td>\n",
              "    </tr>\n",
              "    <tr>\n",
              "      <th>N</th>\n",
              "      <td>0.953081</td>\n",
              "      <td>0.194578</td>\n",
              "      <td>0.916578</td>\n",
              "      <td>-0.217856</td>\n",
              "      <td>0.979925</td>\n",
              "      <td>0.745156</td>\n",
              "      <td>0.867546</td>\n",
              "      <td>0.982403</td>\n",
              "      <td>0.943365</td>\n",
              "      <td>0.691273</td>\n",
              "      <td>0.992158</td>\n",
              "      <td>-0.138097</td>\n",
              "      <td>0.947381</td>\n",
              "      <td>1.000000</td>\n",
              "      <td>0.988920</td>\n",
              "      <td>-0.000722</td>\n",
              "    </tr>\n",
              "    <tr>\n",
              "      <th>O</th>\n",
              "      <td>0.920322</td>\n",
              "      <td>0.098805</td>\n",
              "      <td>0.873800</td>\n",
              "      <td>-0.316241</td>\n",
              "      <td>0.958885</td>\n",
              "      <td>0.675416</td>\n",
              "      <td>0.815281</td>\n",
              "      <td>0.962873</td>\n",
              "      <td>0.970965</td>\n",
              "      <td>0.615931</td>\n",
              "      <td>0.982980</td>\n",
              "      <td>-0.233820</td>\n",
              "      <td>0.926620</td>\n",
              "      <td>0.988920</td>\n",
              "      <td>1.000000</td>\n",
              "      <td>-0.000700</td>\n",
              "    </tr>\n",
              "    <tr>\n",
              "      <th>Class</th>\n",
              "      <td>-0.000620</td>\n",
              "      <td>0.000138</td>\n",
              "      <td>-0.000686</td>\n",
              "      <td>0.000150</td>\n",
              "      <td>-0.000649</td>\n",
              "      <td>-0.000540</td>\n",
              "      <td>-0.000472</td>\n",
              "      <td>-0.000670</td>\n",
              "      <td>-0.000766</td>\n",
              "      <td>-0.000333</td>\n",
              "      <td>-0.000693</td>\n",
              "      <td>0.000094</td>\n",
              "      <td>-0.000662</td>\n",
              "      <td>-0.000722</td>\n",
              "      <td>-0.000700</td>\n",
              "      <td>1.000000</td>\n",
              "    </tr>\n",
              "  </tbody>\n",
              "</table>\n",
              "</div>"
            ],
            "text/plain": [
              "              A         B         C  ...         N         O     Class\n",
              "A      1.000000  0.455949  0.991999  ...  0.953081  0.920322 -0.000620\n",
              "B      0.455949  1.000000  0.541742  ...  0.194578  0.098805  0.000138\n",
              "C      0.991999  0.541742  1.000000  ...  0.916578  0.873800 -0.000686\n",
              "D      0.071330  0.865856  0.176224  ... -0.217856 -0.316241  0.000150\n",
              "E      0.990703  0.352946  0.971805  ...  0.979925  0.958885 -0.000649\n",
              "F      0.905353  0.760708  0.943482  ...  0.745156  0.675416 -0.000540\n",
              "G      0.972223  0.620607  0.988351  ...  0.867546  0.815281 -0.000472\n",
              "H      0.988807  0.339549  0.968342  ...  0.982403  0.962873 -0.000670\n",
              "I      0.818399 -0.098558  0.753474  ...  0.943365  0.970965 -0.000766\n",
              "J      0.870016  0.803246  0.915784  ...  0.691273  0.615931 -0.000333\n",
              "K      0.968827  0.246429  0.937868  ...  0.992158  0.982980 -0.000693\n",
              "L      0.139619  0.854635  0.238723  ... -0.138097 -0.233820  0.000094\n",
              "M      0.958931  0.345030  0.941040  ...  0.947381  0.926620 -0.000662\n",
              "N      0.953081  0.194578  0.916578  ...  1.000000  0.988920 -0.000722\n",
              "O      0.920322  0.098805  0.873800  ...  0.988920  1.000000 -0.000700\n",
              "Class -0.000620  0.000138 -0.000686  ... -0.000722 -0.000700  1.000000\n",
              "\n",
              "[16 rows x 16 columns]"
            ]
          },
          "metadata": {
            "tags": []
          },
          "execution_count": 11
        }
      ]
    },
    {
      "cell_type": "markdown",
      "metadata": {
        "id": "y_x8Kd08rUt3"
      },
      "source": [
        "The correlation results shows us that there is very less correlation between the features and class labels. The feature to feature correlation can be idefntified can we can select one of the two liearly dependent features and thus decrease the dimension. I have perfomed selection of features ahead in this document."
      ]
    },
    {
      "cell_type": "markdown",
      "metadata": {
        "id": "7_KUUhaQujHE"
      },
      "source": [
        "[3.2] Data Visualization : Now lets check the distribution of data for any imbalances."
      ]
    },
    {
      "cell_type": "code",
      "metadata": {
        "colab": {
          "base_uri": "https://localhost:8080/",
          "height": 553
        },
        "id": "_xNWWhJdIUNS",
        "outputId": "22c29cf6-211d-422b-e092-9ad4dc358a83"
      },
      "source": [
        "#Visualization\n",
        "features = 'ABCDEFGHIJKLMNO'\n",
        "\n",
        "fig1 = plt.figure() \n",
        "for i in range(1,16):\n",
        "    fig1.add_subplot(4,4,i)\n",
        "    plt.hist(data_df[features[i-1:i]], bins=20)\n",
        "    plt.title(features[i-1:i])\n",
        "    \n",
        "fig1.add_subplot(4,4,16)\n",
        "plt.hist(data_df['Class'], bins=20)\n",
        "plt.title('Class')\n",
        "fig1.subplots_adjust(hspace=1, wspace=1)\n",
        "fig1.set_figheight(9)\n",
        "fig1.set_figwidth(9)"
      ],
      "execution_count": 12,
      "outputs": [
        {
          "output_type": "display_data",
          "data": {
            "image/png": "[encoded data removed]",
            "text/plain": [
              "<Figure size 648x648 with 16 Axes>"
            ]
          },
          "metadata": {
            "tags": [],
            "needs_background": "light"
          }
        }
      ]
    },
    {
      "cell_type": "code",
      "metadata": {
        "colab": {
          "base_uri": "https://localhost:8080/",
          "height": 282
        },
        "id": "M4EjnByc6YP2",
        "outputId": "b6a8e63a-97e4-4e92-9f88-5b5703823f89"
      },
      "source": [
        "#Visualizing the class label distribution\n",
        "\n",
        "data_df['Class'].hist()"
      ],
      "execution_count": 13,
      "outputs": [
        {
          "output_type": "execute_result",
          "data": {
            "text/plain": [
              "<matplotlib.axes._subplots.AxesSubplot at 0x7fcf0b8e2e90>"
            ]
          },
          "metadata": {
            "tags": []
          },
          "execution_count": 13
        },
        {
          "output_type": "display_data",
          "data": {
            "image/png": "[encoded data removed]",
            "text/plain": [
              "<Figure size 432x288 with 1 Axes>"
            ]
          },
          "metadata": {
            "tags": [],
            "needs_background": "light"
          }
        }
      ]
    },
    {
      "cell_type": "markdown",
      "metadata": {
        "id": "auoBfJK_vxDT"
      },
      "source": [
        "[3.3] Data issues : We can see that particularly for class labels the Class 2 has lot more examples than other two classes. Also, class 1 has the least amount of examples."
      ]
    },
    {
      "cell_type": "markdown",
      "metadata": {
        "id": "n0oKpJ2AwIsW"
      },
      "source": [
        "Now lets split thet dataset into test and train and then standardize it."
      ]
    },
    {
      "cell_type": "code",
      "metadata": {
        "colab": {
          "base_uri": "https://localhost:8080/",
          "height": 204
        },
        "id": "8EXR4-ew3INi",
        "outputId": "af5fb771-fcdf-4df6-c62b-13c9dcacdc53"
      },
      "source": [
        "X_og = pd.DataFrame(data=data_df.drop('Class', axis=1))\n",
        "X_og.head()\n",
        "y_og = pd.DataFrame(data=data_df['Class'])\n",
        "y_og.head()"
      ],
      "execution_count": 14,
      "outputs": [
        {
          "output_type": "execute_result",
          "data": {
            "text/html": [
              "<div>\n",
              "<style scoped>\n",
              "    .dataframe tbody tr th:only-of-type {\n",
              "        vertical-align: middle;\n",
              "    }\n",
              "\n",
              "    .dataframe tbody tr th {\n",
              "        vertical-align: top;\n",
              "    }\n",
              "\n",
              "    .dataframe thead th {\n",
              "        text-align: right;\n",
              "    }\n",
              "</style>\n",
              "<table border=\"1\" class=\"dataframe\">\n",
              "  <thead>\n",
              "    <tr style=\"text-align: right;\">\n",
              "      <th></th>\n",
              "      <th>Class</th>\n",
              "    </tr>\n",
              "  </thead>\n",
              "  <tbody>\n",
              "    <tr>\n",
              "      <th>0</th>\n",
              "      <td>2</td>\n",
              "    </tr>\n",
              "    <tr>\n",
              "      <th>1</th>\n",
              "      <td>3</td>\n",
              "    </tr>\n",
              "    <tr>\n",
              "      <th>2</th>\n",
              "      <td>2</td>\n",
              "    </tr>\n",
              "    <tr>\n",
              "      <th>3</th>\n",
              "      <td>2</td>\n",
              "    </tr>\n",
              "    <tr>\n",
              "      <th>4</th>\n",
              "      <td>3</td>\n",
              "    </tr>\n",
              "  </tbody>\n",
              "</table>\n",
              "</div>"
            ],
            "text/plain": [
              "   Class\n",
              "0      2\n",
              "1      3\n",
              "2      2\n",
              "3      2\n",
              "4      3"
            ]
          },
          "metadata": {
            "tags": []
          },
          "execution_count": 14
        }
      ]
    },
    {
      "cell_type": "code",
      "metadata": {
        "id": "bF2rxCdJ3m9q"
      },
      "source": [
        "x_train_og, x_test_og, y_train_og, y_test_og = train_test_split(X_og, y_og, test_size=0.20, random_state=97)"
      ],
      "execution_count": 15,
      "outputs": []
    },
    {
      "cell_type": "code",
      "metadata": {
        "colab": {
          "base_uri": "https://localhost:8080/"
        },
        "id": "CHAQVgDv3Mjp",
        "outputId": "680c33a5-529a-42d2-8c75-7ae7d2d932d1"
      },
      "source": [
        "training_data_og = pd.concat([x_train_og,y_train_og],axis=1)\n",
        "training_data_og.head()\n",
        "print(len(training_data_og))\n",
        "\n",
        "training_labels_og = list(X_og.columns)\n",
        "print(training_labels_og)"
      ],
      "execution_count": 16,
      "outputs": [
        {
          "output_type": "stream",
          "text": [
            "960000\n",
            "['A', 'B', 'C', 'D', 'E', 'F', 'G', 'H', 'I', 'J', 'K', 'L', 'M', 'N', 'O']\n"
          ],
          "name": "stdout"
        }
      ]
    },
    {
      "cell_type": "code",
      "metadata": {
        "colab": {
          "base_uri": "https://localhost:8080/"
        },
        "id": "HboxztaA20Kx",
        "outputId": "27f5ffda-1b1f-4588-b7d3-989d7f086d38"
      },
      "source": [
        "#Standard scalar\n",
        "standard_scalar = StandardScaler()\n",
        "training_df_scaled_og = standard_scalar.fit_transform(training_data_og.drop('Class', axis=1))\n",
        "training_df_scaled_og = pd.DataFrame(training_df_scaled_og, columns=training_labels_og)\n",
        "print(len(training_df_scaled_og))\n",
        "print(training_df_scaled_og.head(10))\n",
        "print(training_df_scaled_og.isnull().values.any())\n",
        "\n",
        "training_df_scaled_og = pd.merge(training_data_og['Class'],training_df_scaled_og, left_index=True, right_index=True, how='inner')\n",
        "print(len(training_df_scaled_og))\n",
        "print(training_df_scaled_og.head(10))\n",
        "print(training_df_scaled_og.isnull().values.any())\n",
        "\n"
      ],
      "execution_count": 17,
      "outputs": [
        {
          "output_type": "stream",
          "text": [
            "960000\n",
            "          A         B         C  ...         M         N         O\n",
            "0  1.440950  0.765287  1.458101  ...  0.788554  1.398047  1.413347\n",
            "1  1.317774  0.528108  1.321870  ...  1.066979  1.476711  1.263338\n",
            "2 -0.663411  0.429147 -0.662361  ... -0.687958 -0.850573 -0.859964\n",
            "3 -0.641023 -0.040729 -0.550038  ... -0.503728 -0.851243 -0.858986\n",
            "4 -0.630074 -0.094215 -0.551774  ... -0.471425 -0.824783 -0.929646\n",
            "5  1.458450  0.256821  1.356139  ...  1.518827  1.220957  1.347866\n",
            "6 -0.846250 -1.936970 -1.091371  ... -0.052989 -0.284619  0.110404\n",
            "7  1.383809  0.958845  1.446394  ...  1.417070  1.392328  1.423425\n",
            "8 -0.855554 -2.160599 -1.045623  ... -0.315759 -0.284472  0.083560\n",
            "9 -0.838952 -1.825808 -1.071149  ... -0.322718 -0.461967 -0.041303\n",
            "\n",
            "[10 rows x 15 columns]\n",
            "False\n",
            "768010\n",
            "        Class         A         B  ...         M         N         O\n",
            "739135      3 -0.658611  0.228425  ... -0.734685 -0.857980 -0.941281\n",
            "54118       3  1.356763  0.236029  ...  1.623599  1.415648  1.330797\n",
            "293468      3 -0.700953  0.254157  ... -0.738406 -0.778306 -0.943118\n",
            "640194      3 -0.852157 -1.977333  ... -0.316531 -0.113123  0.045479\n",
            "295311      3 -0.607496  0.035722  ... -0.716740 -0.804954 -0.841795\n",
            "505214      1 -0.655865  0.451547  ... -0.710435 -0.848495 -0.899821\n",
            "30934       2  1.381451  0.670002  ...  1.292570  1.144872  1.297473\n",
            "135046      3 -0.825753 -2.007487  ... -0.177142 -0.283713 -0.075976\n",
            "951776      2  1.396558  0.773258  ...  1.507046  1.465753  1.568107\n",
            "836946      3 -0.658029  0.181105  ... -0.902324 -0.816542 -0.901919\n",
            "\n",
            "[10 rows x 16 columns]\n",
            "False\n"
          ],
          "name": "stdout"
        }
      ]
    },
    {
      "cell_type": "markdown",
      "metadata": {
        "id": "Y5ZMAQ8ews-v"
      },
      "source": [
        "Principal Component Analysis : Now , we have to extarct the optimal number of principal components to use for all the pipelines. I executed PCA with all the components and observed the explained variance by all the features. I realised that n_component = 1 is a better select."
      ]
    },
    {
      "cell_type": "code",
      "metadata": {
        "colab": {
          "base_uri": "https://localhost:8080/",
          "height": 364
        },
        "id": "4RCYUgBJ271L",
        "outputId": "8af0383e-4b2e-4f43-8630-80439badeb57"
      },
      "source": [
        "#PCA\n",
        "pca_n_comp = PCA(n_components=15)\n",
        "pca_n_comp.fit(training_df_scaled_og.drop('Class', axis=1))\n",
        "plt.plot(np.cumsum(pca_n_comp.explained_variance_ratio_))\n",
        "plt.xlabel('Number of Components for PCA Analysis')\n",
        "plt.ylabel('Explained Variance')\n",
        "plt.show()\n",
        "print(pca_n_comp.explained_variance_ratio_)\n",
        "print(sum(pca_n_comp.explained_variance_ratio_))"
      ],
      "execution_count": 18,
      "outputs": [
        {
          "output_type": "display_data",
          "data": {
            "image/png": "[encoded data removed]",
            "text/plain": [
              "<Figure size 432x288 with 1 Axes>"
            ]
          },
          "metadata": {
            "tags": [],
            "needs_background": "light"
          }
        },
        {
          "output_type": "stream",
          "text": [
            "[7.33972266e-01 2.48933297e-01 5.94149152e-03 4.07366435e-03\n",
            " 3.46361345e-03 6.57919941e-04 5.61878608e-04 4.72793000e-04\n",
            " 4.62247400e-04 3.82487210e-04 3.10561061e-04 2.56399887e-04\n",
            " 2.01480639e-04 1.84763545e-04 1.25136075e-04]\n",
            "1.0\n"
          ],
          "name": "stdout"
        }
      ]
    },
    {
      "cell_type": "markdown",
      "metadata": {
        "id": "N5tVnltxxu0n"
      },
      "source": [
        "In this part I constructed a Pipeline with Decision Tree Classifier  by dropping each feature one at a time."
      ]
    },
    {
      "cell_type": "code",
      "metadata": {
        "colab": {
          "base_uri": "https://localhost:8080/"
        },
        "id": "5O6xJkHV6YN1",
        "outputId": "632d281b-4647-46e0-879a-d903a483ba84"
      },
      "source": [
        "#FEATURE REMOVAL \n",
        "\n",
        "list_of_features = 'ABCDEFGHIJKLMNO'\n",
        "\n",
        "for i in range(len(features)):\n",
        "  trans = Pipeline(steps=[('scaler',StandardScaler()), ('pca',PCA(n_components=1))])\n",
        "\n",
        "  col_tarns = ColumnTransformer(transformers=[('keep_all_cols', trans , x_train_og.columns.drop([list_of_features[i:i+1]]).values)])\n",
        "\n",
        "  pipeline_og = Pipeline(steps=[('col_trans',col_tarns),('classifier',DecisionTreeClassifier(max_depth = 3,criterion='gini'))])\n",
        "\n",
        "  model_og= pipeline_og.fit(x_train_og, y_train_og)\n",
        "\n",
        "  results = pipeline_og.predict(x_test_og)\n",
        "\n",
        "  actual = np.concatenate(y_test_og.values)\n",
        "\n",
        "  \n",
        "  print(\"Dropping feature :\", list_of_features[i:i+1],\", Accuracy obtained:\", metrics.accuracy_score(actual, results))\n",
        "\n",
        "  \n",
        "\n",
        "\n"
      ],
      "execution_count": 19,
      "outputs": [
        {
          "output_type": "stream",
          "text": [
            "Dropping feature : A , Accuracy obtained: 0.49764166666666665\n",
            "Dropping feature : B , Accuracy obtained: 0.4976375\n",
            "Dropping feature : C , Accuracy obtained: 0.4976333333333333\n",
            "Dropping feature : D , Accuracy obtained: 0.49764583333333334\n",
            "Dropping feature : E , Accuracy obtained: 0.49762083333333335\n",
            "Dropping feature : F , Accuracy obtained: 0.49764583333333334\n",
            "Dropping feature : G , Accuracy obtained: 0.49764166666666665\n",
            "Dropping feature : H , Accuracy obtained: 0.4975875\n",
            "Dropping feature : I , Accuracy obtained: 0.4975791666666667\n",
            "Dropping feature : J , Accuracy obtained: 0.49764583333333334\n",
            "Dropping feature : K , Accuracy obtained: 0.49764166666666665\n",
            "Dropping feature : L , Accuracy obtained: 0.4976375\n",
            "Dropping feature : M , Accuracy obtained: 0.4975833333333333\n",
            "Dropping feature : N , Accuracy obtained: 0.49764166666666665\n",
            "Dropping feature : O , Accuracy obtained: 0.49765\n"
          ],
          "name": "stdout"
        }
      ]
    },
    {
      "cell_type": "markdown",
      "metadata": {
        "id": "g7FF6E8-yRkV"
      },
      "source": [
        "From the abve results, we can infer that by dropping one feature at a time there is no difference in accuracy. Maybe accuracy might not be the right metric to judge feature quality."
      ]
    },
    {
      "cell_type": "markdown",
      "metadata": {
        "id": "TDZ9IJcFOIE6"
      },
      "source": [
        "\n",
        "[3.5] Pipeline details : Perfom Standard scalar and then PCA with 1 components \n"
      ]
    },
    {
      "cell_type": "markdown",
      "metadata": {
        "id": "_3TN3mYAo1Lb"
      },
      "source": [
        "[3.6] Assumption / Adjustments : Another way to look at this problem can be converting a ternary (three class) classification problem into a Binary Classification Problem. For instance looking a class 1 verses NOT class 1. For that we could combine / label class 2 and class 3 as - class 0.This class 0 basically is examples which do not belong to class 1. I have performed this technique each on class 1 2 and 3. The process of trimming down original dataframes into binary classification is executed as below. \n"
      ]
    },
    {
      "cell_type": "markdown",
      "metadata": {
        "id": "dyvCNVv2Nyzu"
      },
      "source": [
        "[3.6.1] Create a Dataframe with values 1 and NOT 1 that is class 2 & 3 and replace these values with 0\n",
        "\n",
        "\n",
        "\n"
      ]
    },
    {
      "cell_type": "code",
      "metadata": {
        "id": "eW2kLFsvMZfo"
      },
      "source": [
        "data_df_1 = data_df.copy(deep=True)"
      ],
      "execution_count": 20,
      "outputs": []
    },
    {
      "cell_type": "code",
      "metadata": {
        "id": "WvxcbAGHNIW9"
      },
      "source": [
        "data_df_1.loc[(data_df_1['Class'] == 2)|(data_df_1['Class'] == 3) , 'Class'] = 0"
      ],
      "execution_count": 21,
      "outputs": []
    },
    {
      "cell_type": "code",
      "metadata": {
        "colab": {
          "base_uri": "https://localhost:8080/",
          "height": 224
        },
        "id": "BY6GkXtBOaNU",
        "outputId": "5b1ae387-6108-4655-f0e0-21f8cf849809"
      },
      "source": [
        "data_df_1.head()"
      ],
      "execution_count": 22,
      "outputs": [
        {
          "output_type": "execute_result",
          "data": {
            "text/html": [
              "<div>\n",
              "<style scoped>\n",
              "    .dataframe tbody tr th:only-of-type {\n",
              "        vertical-align: middle;\n",
              "    }\n",
              "\n",
              "    .dataframe tbody tr th {\n",
              "        vertical-align: top;\n",
              "    }\n",
              "\n",
              "    .dataframe thead th {\n",
              "        text-align: right;\n",
              "    }\n",
              "</style>\n",
              "<table border=\"1\" class=\"dataframe\">\n",
              "  <thead>\n",
              "    <tr style=\"text-align: right;\">\n",
              "      <th></th>\n",
              "      <th>A</th>\n",
              "      <th>B</th>\n",
              "      <th>C</th>\n",
              "      <th>D</th>\n",
              "      <th>E</th>\n",
              "      <th>F</th>\n",
              "      <th>G</th>\n",
              "      <th>H</th>\n",
              "      <th>I</th>\n",
              "      <th>J</th>\n",
              "      <th>K</th>\n",
              "      <th>L</th>\n",
              "      <th>M</th>\n",
              "      <th>N</th>\n",
              "      <th>O</th>\n",
              "      <th>Class</th>\n",
              "    </tr>\n",
              "  </thead>\n",
              "  <tbody>\n",
              "    <tr>\n",
              "      <th>0</th>\n",
              "      <td>231.420023</td>\n",
              "      <td>-12.210984</td>\n",
              "      <td>217.624839</td>\n",
              "      <td>-15.611916</td>\n",
              "      <td>140.047185</td>\n",
              "      <td>76.904999</td>\n",
              "      <td>131.591871</td>\n",
              "      <td>198.160805</td>\n",
              "      <td>82.873279</td>\n",
              "      <td>127.350084</td>\n",
              "      <td>224.592926</td>\n",
              "      <td>-5.992983</td>\n",
              "      <td>-14.689648</td>\n",
              "      <td>143.072058</td>\n",
              "      <td>153.439659</td>\n",
              "      <td>0</td>\n",
              "    </tr>\n",
              "    <tr>\n",
              "      <th>1</th>\n",
              "      <td>-38.019270</td>\n",
              "      <td>-14.195695</td>\n",
              "      <td>9.583547</td>\n",
              "      <td>22.293822</td>\n",
              "      <td>-25.578283</td>\n",
              "      <td>-18.373955</td>\n",
              "      <td>-0.094457</td>\n",
              "      <td>-33.711852</td>\n",
              "      <td>-8.356041</td>\n",
              "      <td>23.792402</td>\n",
              "      <td>4.199023</td>\n",
              "      <td>2.809159</td>\n",
              "      <td>-59.330681</td>\n",
              "      <td>-11.685950</td>\n",
              "      <td>1.317104</td>\n",
              "      <td>0</td>\n",
              "    </tr>\n",
              "    <tr>\n",
              "      <th>2</th>\n",
              "      <td>-39.197085</td>\n",
              "      <td>-20.418850</td>\n",
              "      <td>21.023083</td>\n",
              "      <td>19.790280</td>\n",
              "      <td>-25.902587</td>\n",
              "      <td>-19.189004</td>\n",
              "      <td>-2.953836</td>\n",
              "      <td>-25.299219</td>\n",
              "      <td>-6.612401</td>\n",
              "      <td>26.285392</td>\n",
              "      <td>5.911292</td>\n",
              "      <td>6.191587</td>\n",
              "      <td>-56.924996</td>\n",
              "      <td>-4.675187</td>\n",
              "      <td>-1.027830</td>\n",
              "      <td>0</td>\n",
              "    </tr>\n",
              "    <tr>\n",
              "      <th>3</th>\n",
              "      <td>221.630408</td>\n",
              "      <td>-5.785352</td>\n",
              "      <td>216.725322</td>\n",
              "      <td>-9.900781</td>\n",
              "      <td>126.795177</td>\n",
              "      <td>85.122288</td>\n",
              "      <td>108.857593</td>\n",
              "      <td>197.640135</td>\n",
              "      <td>82.560019</td>\n",
              "      <td>157.105143</td>\n",
              "      <td>212.989231</td>\n",
              "      <td>-3.621070</td>\n",
              "      <td>-15.469156</td>\n",
              "      <td>135.265859</td>\n",
              "      <td>149.212489</td>\n",
              "      <td>0</td>\n",
              "    </tr>\n",
              "    <tr>\n",
              "      <th>4</th>\n",
              "      <td>228.558412</td>\n",
              "      <td>-12.447710</td>\n",
              "      <td>204.637218</td>\n",
              "      <td>-13.277704</td>\n",
              "      <td>138.930529</td>\n",
              "      <td>91.101870</td>\n",
              "      <td>115.598954</td>\n",
              "      <td>209.300011</td>\n",
              "      <td>89.961688</td>\n",
              "      <td>130.299732</td>\n",
              "      <td>201.795100</td>\n",
              "      <td>-1.573922</td>\n",
              "      <td>-15.128603</td>\n",
              "      <td>148.368622</td>\n",
              "      <td>147.492663</td>\n",
              "      <td>0</td>\n",
              "    </tr>\n",
              "  </tbody>\n",
              "</table>\n",
              "</div>"
            ],
            "text/plain": [
              "            A          B           C  ...           N           O  Class\n",
              "0  231.420023 -12.210984  217.624839  ...  143.072058  153.439659      0\n",
              "1  -38.019270 -14.195695    9.583547  ...  -11.685950    1.317104      0\n",
              "2  -39.197085 -20.418850   21.023083  ...   -4.675187   -1.027830      0\n",
              "3  221.630408  -5.785352  216.725322  ...  135.265859  149.212489      0\n",
              "4  228.558412 -12.447710  204.637218  ...  148.368622  147.492663      0\n",
              "\n",
              "[5 rows x 16 columns]"
            ]
          },
          "metadata": {
            "tags": []
          },
          "execution_count": 22
        }
      ]
    },
    {
      "cell_type": "code",
      "metadata": {
        "colab": {
          "base_uri": "https://localhost:8080/"
        },
        "id": "y4fl65PcNL-k",
        "outputId": "2578d578-5567-4c63-bfb5-272c7696eff2"
      },
      "source": [
        "data_df_1['Class'].unique()"
      ],
      "execution_count": 23,
      "outputs": [
        {
          "output_type": "execute_result",
          "data": {
            "text/plain": [
              "array([0, 1])"
            ]
          },
          "metadata": {
            "tags": []
          },
          "execution_count": 23
        }
      ]
    },
    {
      "cell_type": "code",
      "metadata": {
        "colab": {
          "base_uri": "https://localhost:8080/",
          "height": 221
        },
        "id": "GKGqFLYAR0Za",
        "outputId": "ab3408e4-4eca-4ee0-b864-7fc7d95ada6b"
      },
      "source": [
        "X_1 = pd.DataFrame(data=data_df_1.drop('Class', axis=1))\n",
        "X_1.head()\n",
        "training_labels_1 = list(X_1.columns)\n",
        "print(training_labels_1)\n",
        "y_1 = pd.DataFrame(data=data_df_1['Class'])\n",
        "y_1.head()"
      ],
      "execution_count": 25,
      "outputs": [
        {
          "output_type": "stream",
          "text": [
            "['A', 'B', 'C', 'D', 'E', 'F', 'G', 'H', 'I', 'J', 'K', 'L', 'M', 'N', 'O']\n"
          ],
          "name": "stdout"
        },
        {
          "output_type": "execute_result",
          "data": {
            "text/html": [
              "<div>\n",
              "<style scoped>\n",
              "    .dataframe tbody tr th:only-of-type {\n",
              "        vertical-align: middle;\n",
              "    }\n",
              "\n",
              "    .dataframe tbody tr th {\n",
              "        vertical-align: top;\n",
              "    }\n",
              "\n",
              "    .dataframe thead th {\n",
              "        text-align: right;\n",
              "    }\n",
              "</style>\n",
              "<table border=\"1\" class=\"dataframe\">\n",
              "  <thead>\n",
              "    <tr style=\"text-align: right;\">\n",
              "      <th></th>\n",
              "      <th>Class</th>\n",
              "    </tr>\n",
              "  </thead>\n",
              "  <tbody>\n",
              "    <tr>\n",
              "      <th>0</th>\n",
              "      <td>0</td>\n",
              "    </tr>\n",
              "    <tr>\n",
              "      <th>1</th>\n",
              "      <td>0</td>\n",
              "    </tr>\n",
              "    <tr>\n",
              "      <th>2</th>\n",
              "      <td>0</td>\n",
              "    </tr>\n",
              "    <tr>\n",
              "      <th>3</th>\n",
              "      <td>0</td>\n",
              "    </tr>\n",
              "    <tr>\n",
              "      <th>4</th>\n",
              "      <td>0</td>\n",
              "    </tr>\n",
              "  </tbody>\n",
              "</table>\n",
              "</div>"
            ],
            "text/plain": [
              "   Class\n",
              "0      0\n",
              "1      0\n",
              "2      0\n",
              "3      0\n",
              "4      0"
            ]
          },
          "metadata": {
            "tags": []
          },
          "execution_count": 25
        }
      ]
    },
    {
      "cell_type": "code",
      "metadata": {
        "id": "xIDnBJpVXnxP"
      },
      "source": [
        "x_train_1, x_test_1, y_train_1, y_test_1 = train_test_split(X_1, y_1, test_size=0.20, random_state=97)"
      ],
      "execution_count": 26,
      "outputs": []
    },
    {
      "cell_type": "code",
      "metadata": {
        "colab": {
          "base_uri": "https://localhost:8080/",
          "height": 224
        },
        "id": "AOBOdpZUXnu1",
        "outputId": "8f89d211-3d21-4143-fc42-28ed3b932da7"
      },
      "source": [
        "training_data_1 = pd.concat([x_train_1,y_train_1],axis=1)\n",
        "training_data_1.head()\n"
      ],
      "execution_count": 27,
      "outputs": [
        {
          "output_type": "execute_result",
          "data": {
            "text/html": [
              "<div>\n",
              "<style scoped>\n",
              "    .dataframe tbody tr th:only-of-type {\n",
              "        vertical-align: middle;\n",
              "    }\n",
              "\n",
              "    .dataframe tbody tr th {\n",
              "        vertical-align: top;\n",
              "    }\n",
              "\n",
              "    .dataframe thead th {\n",
              "        text-align: right;\n",
              "    }\n",
              "</style>\n",
              "<table border=\"1\" class=\"dataframe\">\n",
              "  <thead>\n",
              "    <tr style=\"text-align: right;\">\n",
              "      <th></th>\n",
              "      <th>A</th>\n",
              "      <th>B</th>\n",
              "      <th>C</th>\n",
              "      <th>D</th>\n",
              "      <th>E</th>\n",
              "      <th>F</th>\n",
              "      <th>G</th>\n",
              "      <th>H</th>\n",
              "      <th>I</th>\n",
              "      <th>J</th>\n",
              "      <th>K</th>\n",
              "      <th>L</th>\n",
              "      <th>M</th>\n",
              "      <th>N</th>\n",
              "      <th>O</th>\n",
              "      <th>Class</th>\n",
              "    </tr>\n",
              "  </thead>\n",
              "  <tbody>\n",
              "    <tr>\n",
              "      <th>739135</th>\n",
              "      <td>236.953747</td>\n",
              "      <td>-7.759034</td>\n",
              "      <td>225.159958</td>\n",
              "      <td>-11.995705</td>\n",
              "      <td>136.637974</td>\n",
              "      <td>87.661684</td>\n",
              "      <td>125.075666</td>\n",
              "      <td>200.787092</td>\n",
              "      <td>76.521628</td>\n",
              "      <td>144.867903</td>\n",
              "      <td>213.326676</td>\n",
              "      <td>-2.315755</td>\n",
              "      <td>-28.195627</td>\n",
              "      <td>143.575697</td>\n",
              "      <td>154.203753</td>\n",
              "      <td>0</td>\n",
              "    </tr>\n",
              "    <tr>\n",
              "      <th>1081420</th>\n",
              "      <td>221.033289</td>\n",
              "      <td>-11.187842</td>\n",
              "      <td>210.817531</td>\n",
              "      <td>-15.993283</td>\n",
              "      <td>130.047755</td>\n",
              "      <td>90.522895</td>\n",
              "      <td>108.015150</td>\n",
              "      <td>193.448474</td>\n",
              "      <td>94.147234</td>\n",
              "      <td>130.212659</td>\n",
              "      <td>223.077630</td>\n",
              "      <td>3.780402</td>\n",
              "      <td>-23.207949</td>\n",
              "      <td>148.869317</td>\n",
              "      <td>144.184592</td>\n",
              "      <td>0</td>\n",
              "    </tr>\n",
              "    <tr>\n",
              "      <th>974288</th>\n",
              "      <td>-35.035454</td>\n",
              "      <td>-12.618482</td>\n",
              "      <td>1.916518</td>\n",
              "      <td>13.597099</td>\n",
              "      <td>-26.472790</td>\n",
              "      <td>-20.551867</td>\n",
              "      <td>-1.923341</td>\n",
              "      <td>-25.359377</td>\n",
              "      <td>-5.907361</td>\n",
              "      <td>27.024969</td>\n",
              "      <td>6.250704</td>\n",
              "      <td>-1.762495</td>\n",
              "      <td>-54.645811</td>\n",
              "      <td>-7.743355</td>\n",
              "      <td>2.368558</td>\n",
              "      <td>0</td>\n",
              "    </tr>\n",
              "    <tr>\n",
              "      <th>1005424</th>\n",
              "      <td>-32.141839</td>\n",
              "      <td>-19.411296</td>\n",
              "      <td>13.741958</td>\n",
              "      <td>18.517671</td>\n",
              "      <td>-18.977989</td>\n",
              "      <td>-31.162255</td>\n",
              "      <td>0.696911</td>\n",
              "      <td>-22.133239</td>\n",
              "      <td>-9.090903</td>\n",
              "      <td>24.933827</td>\n",
              "      <td>-0.076681</td>\n",
              "      <td>-0.287504</td>\n",
              "      <td>-51.345522</td>\n",
              "      <td>-7.788391</td>\n",
              "      <td>2.433881</td>\n",
              "      <td>0</td>\n",
              "    </tr>\n",
              "    <tr>\n",
              "      <th>54118</th>\n",
              "      <td>-30.726699</td>\n",
              "      <td>-20.184529</td>\n",
              "      <td>13.559096</td>\n",
              "      <td>19.658662</td>\n",
              "      <td>-27.099861</td>\n",
              "      <td>-21.148438</td>\n",
              "      <td>1.095623</td>\n",
              "      <td>-20.215625</td>\n",
              "      <td>-8.436967</td>\n",
              "      <td>29.737919</td>\n",
              "      <td>3.935207</td>\n",
              "      <td>1.128940</td>\n",
              "      <td>-50.766839</td>\n",
              "      <td>-6.007826</td>\n",
              "      <td>-2.285504</td>\n",
              "      <td>0</td>\n",
              "    </tr>\n",
              "  </tbody>\n",
              "</table>\n",
              "</div>"
            ],
            "text/plain": [
              "                  A          B           C  ...           N           O  Class\n",
              "739135   236.953747  -7.759034  225.159958  ...  143.575697  154.203753      0\n",
              "1081420  221.033289 -11.187842  210.817531  ...  148.869317  144.184592      0\n",
              "974288   -35.035454 -12.618482    1.916518  ...   -7.743355    2.368558      0\n",
              "1005424  -32.141839 -19.411296   13.741958  ...   -7.788391    2.433881      0\n",
              "54118    -30.726699 -20.184529   13.559096  ...   -6.007826   -2.285504      0\n",
              "\n",
              "[5 rows x 16 columns]"
            ]
          },
          "metadata": {
            "tags": []
          },
          "execution_count": 27
        }
      ]
    },
    {
      "cell_type": "markdown",
      "metadata": {
        "id": "7mEfIinrg4LX"
      },
      "source": [
        "Now i have dropped class 1 and  labeled classes 2 and 3 as 0 because we have test this new dataset  on a model which is trained on class 1 verses NOT class1. This same method I have performed for class 2 and class 3."
      ]
    },
    {
      "cell_type": "code",
      "metadata": {
        "id": "BWCoj-T_f_t9"
      },
      "source": [
        "data_df_only_23 = data_df.copy(deep=True)"
      ],
      "execution_count": 28,
      "outputs": []
    },
    {
      "cell_type": "code",
      "metadata": {
        "id": "8jV8kPB_nkaO",
        "colab": {
          "base_uri": "https://localhost:8080/",
          "height": 224
        },
        "outputId": "69b96a4e-4bdf-4705-c69a-5bfd3e6e3d53"
      },
      "source": [
        "data_df_only_23.drop(data_df_only_23[data_df_only_23['Class'] ==1].index, inplace = True)\n",
        "data_df_only_23.head()"
      ],
      "execution_count": 29,
      "outputs": [
        {
          "output_type": "execute_result",
          "data": {
            "text/html": [
              "<div>\n",
              "<style scoped>\n",
              "    .dataframe tbody tr th:only-of-type {\n",
              "        vertical-align: middle;\n",
              "    }\n",
              "\n",
              "    .dataframe tbody tr th {\n",
              "        vertical-align: top;\n",
              "    }\n",
              "\n",
              "    .dataframe thead th {\n",
              "        text-align: right;\n",
              "    }\n",
              "</style>\n",
              "<table border=\"1\" class=\"dataframe\">\n",
              "  <thead>\n",
              "    <tr style=\"text-align: right;\">\n",
              "      <th></th>\n",
              "      <th>A</th>\n",
              "      <th>B</th>\n",
              "      <th>C</th>\n",
              "      <th>D</th>\n",
              "      <th>E</th>\n",
              "      <th>F</th>\n",
              "      <th>G</th>\n",
              "      <th>H</th>\n",
              "      <th>I</th>\n",
              "      <th>J</th>\n",
              "      <th>K</th>\n",
              "      <th>L</th>\n",
              "      <th>M</th>\n",
              "      <th>N</th>\n",
              "      <th>O</th>\n",
              "      <th>Class</th>\n",
              "    </tr>\n",
              "  </thead>\n",
              "  <tbody>\n",
              "    <tr>\n",
              "      <th>0</th>\n",
              "      <td>231.420023</td>\n",
              "      <td>-12.210984</td>\n",
              "      <td>217.624839</td>\n",
              "      <td>-15.611916</td>\n",
              "      <td>140.047185</td>\n",
              "      <td>76.904999</td>\n",
              "      <td>131.591871</td>\n",
              "      <td>198.160805</td>\n",
              "      <td>82.873279</td>\n",
              "      <td>127.350084</td>\n",
              "      <td>224.592926</td>\n",
              "      <td>-5.992983</td>\n",
              "      <td>-14.689648</td>\n",
              "      <td>143.072058</td>\n",
              "      <td>153.439659</td>\n",
              "      <td>2</td>\n",
              "    </tr>\n",
              "    <tr>\n",
              "      <th>1</th>\n",
              "      <td>-38.019270</td>\n",
              "      <td>-14.195695</td>\n",
              "      <td>9.583547</td>\n",
              "      <td>22.293822</td>\n",
              "      <td>-25.578283</td>\n",
              "      <td>-18.373955</td>\n",
              "      <td>-0.094457</td>\n",
              "      <td>-33.711852</td>\n",
              "      <td>-8.356041</td>\n",
              "      <td>23.792402</td>\n",
              "      <td>4.199023</td>\n",
              "      <td>2.809159</td>\n",
              "      <td>-59.330681</td>\n",
              "      <td>-11.685950</td>\n",
              "      <td>1.317104</td>\n",
              "      <td>3</td>\n",
              "    </tr>\n",
              "    <tr>\n",
              "      <th>2</th>\n",
              "      <td>-39.197085</td>\n",
              "      <td>-20.418850</td>\n",
              "      <td>21.023083</td>\n",
              "      <td>19.790280</td>\n",
              "      <td>-25.902587</td>\n",
              "      <td>-19.189004</td>\n",
              "      <td>-2.953836</td>\n",
              "      <td>-25.299219</td>\n",
              "      <td>-6.612401</td>\n",
              "      <td>26.285392</td>\n",
              "      <td>5.911292</td>\n",
              "      <td>6.191587</td>\n",
              "      <td>-56.924996</td>\n",
              "      <td>-4.675187</td>\n",
              "      <td>-1.027830</td>\n",
              "      <td>2</td>\n",
              "    </tr>\n",
              "    <tr>\n",
              "      <th>3</th>\n",
              "      <td>221.630408</td>\n",
              "      <td>-5.785352</td>\n",
              "      <td>216.725322</td>\n",
              "      <td>-9.900781</td>\n",
              "      <td>126.795177</td>\n",
              "      <td>85.122288</td>\n",
              "      <td>108.857593</td>\n",
              "      <td>197.640135</td>\n",
              "      <td>82.560019</td>\n",
              "      <td>157.105143</td>\n",
              "      <td>212.989231</td>\n",
              "      <td>-3.621070</td>\n",
              "      <td>-15.469156</td>\n",
              "      <td>135.265859</td>\n",
              "      <td>149.212489</td>\n",
              "      <td>2</td>\n",
              "    </tr>\n",
              "    <tr>\n",
              "      <th>4</th>\n",
              "      <td>228.558412</td>\n",
              "      <td>-12.447710</td>\n",
              "      <td>204.637218</td>\n",
              "      <td>-13.277704</td>\n",
              "      <td>138.930529</td>\n",
              "      <td>91.101870</td>\n",
              "      <td>115.598954</td>\n",
              "      <td>209.300011</td>\n",
              "      <td>89.961688</td>\n",
              "      <td>130.299732</td>\n",
              "      <td>201.795100</td>\n",
              "      <td>-1.573922</td>\n",
              "      <td>-15.128603</td>\n",
              "      <td>148.368622</td>\n",
              "      <td>147.492663</td>\n",
              "      <td>3</td>\n",
              "    </tr>\n",
              "  </tbody>\n",
              "</table>\n",
              "</div>"
            ],
            "text/plain": [
              "            A          B           C  ...           N           O  Class\n",
              "0  231.420023 -12.210984  217.624839  ...  143.072058  153.439659      2\n",
              "1  -38.019270 -14.195695    9.583547  ...  -11.685950    1.317104      3\n",
              "2  -39.197085 -20.418850   21.023083  ...   -4.675187   -1.027830      2\n",
              "3  221.630408  -5.785352  216.725322  ...  135.265859  149.212489      2\n",
              "4  228.558412 -12.447710  204.637218  ...  148.368622  147.492663      3\n",
              "\n",
              "[5 rows x 16 columns]"
            ]
          },
          "metadata": {
            "tags": []
          },
          "execution_count": 29
        }
      ]
    },
    {
      "cell_type": "code",
      "metadata": {
        "colab": {
          "base_uri": "https://localhost:8080/",
          "height": 224
        },
        "id": "mMRMZ5bi_t2S",
        "outputId": "7b5fa190-728a-4894-ceff-596ee33f4a59"
      },
      "source": [
        "#replace label classes 2 and 3 as 0 because thats NOT class 1\n",
        "\n",
        "data_df_only_23.loc[(data_df_only_23['Class'] == 3) | (data_df_only_23['Class'] == 2) , 'Class'] = 0 \n",
        "data_df_only_23.head()"
      ],
      "execution_count": 30,
      "outputs": [
        {
          "output_type": "execute_result",
          "data": {
            "text/html": [
              "<div>\n",
              "<style scoped>\n",
              "    .dataframe tbody tr th:only-of-type {\n",
              "        vertical-align: middle;\n",
              "    }\n",
              "\n",
              "    .dataframe tbody tr th {\n",
              "        vertical-align: top;\n",
              "    }\n",
              "\n",
              "    .dataframe thead th {\n",
              "        text-align: right;\n",
              "    }\n",
              "</style>\n",
              "<table border=\"1\" class=\"dataframe\">\n",
              "  <thead>\n",
              "    <tr style=\"text-align: right;\">\n",
              "      <th></th>\n",
              "      <th>A</th>\n",
              "      <th>B</th>\n",
              "      <th>C</th>\n",
              "      <th>D</th>\n",
              "      <th>E</th>\n",
              "      <th>F</th>\n",
              "      <th>G</th>\n",
              "      <th>H</th>\n",
              "      <th>I</th>\n",
              "      <th>J</th>\n",
              "      <th>K</th>\n",
              "      <th>L</th>\n",
              "      <th>M</th>\n",
              "      <th>N</th>\n",
              "      <th>O</th>\n",
              "      <th>Class</th>\n",
              "    </tr>\n",
              "  </thead>\n",
              "  <tbody>\n",
              "    <tr>\n",
              "      <th>0</th>\n",
              "      <td>231.420023</td>\n",
              "      <td>-12.210984</td>\n",
              "      <td>217.624839</td>\n",
              "      <td>-15.611916</td>\n",
              "      <td>140.047185</td>\n",
              "      <td>76.904999</td>\n",
              "      <td>131.591871</td>\n",
              "      <td>198.160805</td>\n",
              "      <td>82.873279</td>\n",
              "      <td>127.350084</td>\n",
              "      <td>224.592926</td>\n",
              "      <td>-5.992983</td>\n",
              "      <td>-14.689648</td>\n",
              "      <td>143.072058</td>\n",
              "      <td>153.439659</td>\n",
              "      <td>0</td>\n",
              "    </tr>\n",
              "    <tr>\n",
              "      <th>1</th>\n",
              "      <td>-38.019270</td>\n",
              "      <td>-14.195695</td>\n",
              "      <td>9.583547</td>\n",
              "      <td>22.293822</td>\n",
              "      <td>-25.578283</td>\n",
              "      <td>-18.373955</td>\n",
              "      <td>-0.094457</td>\n",
              "      <td>-33.711852</td>\n",
              "      <td>-8.356041</td>\n",
              "      <td>23.792402</td>\n",
              "      <td>4.199023</td>\n",
              "      <td>2.809159</td>\n",
              "      <td>-59.330681</td>\n",
              "      <td>-11.685950</td>\n",
              "      <td>1.317104</td>\n",
              "      <td>0</td>\n",
              "    </tr>\n",
              "    <tr>\n",
              "      <th>2</th>\n",
              "      <td>-39.197085</td>\n",
              "      <td>-20.418850</td>\n",
              "      <td>21.023083</td>\n",
              "      <td>19.790280</td>\n",
              "      <td>-25.902587</td>\n",
              "      <td>-19.189004</td>\n",
              "      <td>-2.953836</td>\n",
              "      <td>-25.299219</td>\n",
              "      <td>-6.612401</td>\n",
              "      <td>26.285392</td>\n",
              "      <td>5.911292</td>\n",
              "      <td>6.191587</td>\n",
              "      <td>-56.924996</td>\n",
              "      <td>-4.675187</td>\n",
              "      <td>-1.027830</td>\n",
              "      <td>0</td>\n",
              "    </tr>\n",
              "    <tr>\n",
              "      <th>3</th>\n",
              "      <td>221.630408</td>\n",
              "      <td>-5.785352</td>\n",
              "      <td>216.725322</td>\n",
              "      <td>-9.900781</td>\n",
              "      <td>126.795177</td>\n",
              "      <td>85.122288</td>\n",
              "      <td>108.857593</td>\n",
              "      <td>197.640135</td>\n",
              "      <td>82.560019</td>\n",
              "      <td>157.105143</td>\n",
              "      <td>212.989231</td>\n",
              "      <td>-3.621070</td>\n",
              "      <td>-15.469156</td>\n",
              "      <td>135.265859</td>\n",
              "      <td>149.212489</td>\n",
              "      <td>0</td>\n",
              "    </tr>\n",
              "    <tr>\n",
              "      <th>4</th>\n",
              "      <td>228.558412</td>\n",
              "      <td>-12.447710</td>\n",
              "      <td>204.637218</td>\n",
              "      <td>-13.277704</td>\n",
              "      <td>138.930529</td>\n",
              "      <td>91.101870</td>\n",
              "      <td>115.598954</td>\n",
              "      <td>209.300011</td>\n",
              "      <td>89.961688</td>\n",
              "      <td>130.299732</td>\n",
              "      <td>201.795100</td>\n",
              "      <td>-1.573922</td>\n",
              "      <td>-15.128603</td>\n",
              "      <td>148.368622</td>\n",
              "      <td>147.492663</td>\n",
              "      <td>0</td>\n",
              "    </tr>\n",
              "  </tbody>\n",
              "</table>\n",
              "</div>"
            ],
            "text/plain": [
              "            A          B           C  ...           N           O  Class\n",
              "0  231.420023 -12.210984  217.624839  ...  143.072058  153.439659      0\n",
              "1  -38.019270 -14.195695    9.583547  ...  -11.685950    1.317104      0\n",
              "2  -39.197085 -20.418850   21.023083  ...   -4.675187   -1.027830      0\n",
              "3  221.630408  -5.785352  216.725322  ...  135.265859  149.212489      0\n",
              "4  228.558412 -12.447710  204.637218  ...  148.368622  147.492663      0\n",
              "\n",
              "[5 rows x 16 columns]"
            ]
          },
          "metadata": {
            "tags": []
          },
          "execution_count": 30
        }
      ]
    },
    {
      "cell_type": "code",
      "metadata": {
        "colab": {
          "base_uri": "https://localhost:8080/"
        },
        "id": "GNVuvXohADpl",
        "outputId": "03c46231-de3d-487f-88e6-63766ab9cd43"
      },
      "source": [
        "data_df_only_23['Class'].unique()"
      ],
      "execution_count": 31,
      "outputs": [
        {
          "output_type": "execute_result",
          "data": {
            "text/plain": [
              "array([0])"
            ]
          },
          "metadata": {
            "tags": []
          },
          "execution_count": 31
        }
      ]
    },
    {
      "cell_type": "code",
      "metadata": {
        "colab": {
          "base_uri": "https://localhost:8080/",
          "height": 221
        },
        "id": "WO4e_DktAJAf",
        "outputId": "8bc16e7f-91a7-4a51-f3f3-bbc07137d46e"
      },
      "source": [
        "X_23 = pd.DataFrame(data=data_df_only_23.drop('Class', axis=1))\n",
        "X_23.head()\n",
        "training_labels_only_23 = list(X_23.columns)\n",
        "print(training_labels_only_23)\n",
        "y_23 = pd.DataFrame(data=data_df_only_23['Class'])\n",
        "y_23.head()"
      ],
      "execution_count": 32,
      "outputs": [
        {
          "output_type": "stream",
          "text": [
            "['A', 'B', 'C', 'D', 'E', 'F', 'G', 'H', 'I', 'J', 'K', 'L', 'M', 'N', 'O']\n"
          ],
          "name": "stdout"
        },
        {
          "output_type": "execute_result",
          "data": {
            "text/html": [
              "<div>\n",
              "<style scoped>\n",
              "    .dataframe tbody tr th:only-of-type {\n",
              "        vertical-align: middle;\n",
              "    }\n",
              "\n",
              "    .dataframe tbody tr th {\n",
              "        vertical-align: top;\n",
              "    }\n",
              "\n",
              "    .dataframe thead th {\n",
              "        text-align: right;\n",
              "    }\n",
              "</style>\n",
              "<table border=\"1\" class=\"dataframe\">\n",
              "  <thead>\n",
              "    <tr style=\"text-align: right;\">\n",
              "      <th></th>\n",
              "      <th>Class</th>\n",
              "    </tr>\n",
              "  </thead>\n",
              "  <tbody>\n",
              "    <tr>\n",
              "      <th>0</th>\n",
              "      <td>0</td>\n",
              "    </tr>\n",
              "    <tr>\n",
              "      <th>1</th>\n",
              "      <td>0</td>\n",
              "    </tr>\n",
              "    <tr>\n",
              "      <th>2</th>\n",
              "      <td>0</td>\n",
              "    </tr>\n",
              "    <tr>\n",
              "      <th>3</th>\n",
              "      <td>0</td>\n",
              "    </tr>\n",
              "    <tr>\n",
              "      <th>4</th>\n",
              "      <td>0</td>\n",
              "    </tr>\n",
              "  </tbody>\n",
              "</table>\n",
              "</div>"
            ],
            "text/plain": [
              "   Class\n",
              "0      0\n",
              "1      0\n",
              "2      0\n",
              "3      0\n",
              "4      0"
            ]
          },
          "metadata": {
            "tags": []
          },
          "execution_count": 32
        }
      ]
    },
    {
      "cell_type": "code",
      "metadata": {
        "id": "nv9vXkeBg2Bx"
      },
      "source": [
        "x_train_23, x_test_23, y_train_23, y_test_23 = train_test_split(X_23, y_23, test_size=0.20, random_state=97)"
      ],
      "execution_count": 33,
      "outputs": []
    },
    {
      "cell_type": "markdown",
      "metadata": {
        "id": "17SMHBeKTMY1"
      },
      "source": [
        "[3.6.2] Create a Dataframe with values 2 and NOT 2 that is class 1 & 3 and replace these values with 0"
      ]
    },
    {
      "cell_type": "code",
      "metadata": {
        "colab": {
          "base_uri": "https://localhost:8080/"
        },
        "id": "yL8-S1zJJv6W",
        "outputId": "61f28113-815b-456f-f26c-f33cca6db9aa"
      },
      "source": [
        "data_df_2 = data_df.copy(deep=True)\n",
        "data_df_2.loc[(data_df_2['Class'] == 1)|(data_df_2['Class'] == 3) , 'Class'] = 0\n",
        "data_df_2['Class'].unique()\n"
      ],
      "execution_count": 34,
      "outputs": [
        {
          "output_type": "execute_result",
          "data": {
            "text/plain": [
              "array([2, 0])"
            ]
          },
          "metadata": {
            "tags": []
          },
          "execution_count": 34
        }
      ]
    },
    {
      "cell_type": "code",
      "metadata": {
        "colab": {
          "base_uri": "https://localhost:8080/",
          "height": 221
        },
        "id": "_NaPSMIIJv3n",
        "outputId": "08a385a1-95fb-4bd6-bf67-d19c0ff1b48b"
      },
      "source": [
        "X_2 = pd.DataFrame(data=data_df_2.drop('Class', axis=1))\n",
        "X_2.head()\n",
        "training_labels_2 = list(X_2.columns)\n",
        "print(training_labels_2)\n",
        "y_2 = pd.DataFrame(data=data_df_2['Class'])\n",
        "y_2.head()"
      ],
      "execution_count": 35,
      "outputs": [
        {
          "output_type": "stream",
          "text": [
            "['A', 'B', 'C', 'D', 'E', 'F', 'G', 'H', 'I', 'J', 'K', 'L', 'M', 'N', 'O']\n"
          ],
          "name": "stdout"
        },
        {
          "output_type": "execute_result",
          "data": {
            "text/html": [
              "<div>\n",
              "<style scoped>\n",
              "    .dataframe tbody tr th:only-of-type {\n",
              "        vertical-align: middle;\n",
              "    }\n",
              "\n",
              "    .dataframe tbody tr th {\n",
              "        vertical-align: top;\n",
              "    }\n",
              "\n",
              "    .dataframe thead th {\n",
              "        text-align: right;\n",
              "    }\n",
              "</style>\n",
              "<table border=\"1\" class=\"dataframe\">\n",
              "  <thead>\n",
              "    <tr style=\"text-align: right;\">\n",
              "      <th></th>\n",
              "      <th>Class</th>\n",
              "    </tr>\n",
              "  </thead>\n",
              "  <tbody>\n",
              "    <tr>\n",
              "      <th>0</th>\n",
              "      <td>2</td>\n",
              "    </tr>\n",
              "    <tr>\n",
              "      <th>1</th>\n",
              "      <td>0</td>\n",
              "    </tr>\n",
              "    <tr>\n",
              "      <th>2</th>\n",
              "      <td>2</td>\n",
              "    </tr>\n",
              "    <tr>\n",
              "      <th>3</th>\n",
              "      <td>2</td>\n",
              "    </tr>\n",
              "    <tr>\n",
              "      <th>4</th>\n",
              "      <td>0</td>\n",
              "    </tr>\n",
              "  </tbody>\n",
              "</table>\n",
              "</div>"
            ],
            "text/plain": [
              "   Class\n",
              "0      2\n",
              "1      0\n",
              "2      2\n",
              "3      2\n",
              "4      0"
            ]
          },
          "metadata": {
            "tags": []
          },
          "execution_count": 35
        }
      ]
    },
    {
      "cell_type": "code",
      "metadata": {
        "id": "fVoQHtrIJv09"
      },
      "source": [
        "x_train_2, x_test_2, y_train_2, y_test_2 = train_test_split(X_2, y_2, test_size=0.20, random_state=97)"
      ],
      "execution_count": 36,
      "outputs": []
    },
    {
      "cell_type": "code",
      "metadata": {
        "colab": {
          "base_uri": "https://localhost:8080/",
          "height": 224
        },
        "id": "H8JKoBL0JvyY",
        "outputId": "0c63ffe4-9a96-4ca0-869a-d9ac3c9d626f"
      },
      "source": [
        "training_data_2 = pd.concat([x_train_2,y_train_2],axis=1)\n",
        "training_data_2.head()\n"
      ],
      "execution_count": 37,
      "outputs": [
        {
          "output_type": "execute_result",
          "data": {
            "text/html": [
              "<div>\n",
              "<style scoped>\n",
              "    .dataframe tbody tr th:only-of-type {\n",
              "        vertical-align: middle;\n",
              "    }\n",
              "\n",
              "    .dataframe tbody tr th {\n",
              "        vertical-align: top;\n",
              "    }\n",
              "\n",
              "    .dataframe thead th {\n",
              "        text-align: right;\n",
              "    }\n",
              "</style>\n",
              "<table border=\"1\" class=\"dataframe\">\n",
              "  <thead>\n",
              "    <tr style=\"text-align: right;\">\n",
              "      <th></th>\n",
              "      <th>A</th>\n",
              "      <th>B</th>\n",
              "      <th>C</th>\n",
              "      <th>D</th>\n",
              "      <th>E</th>\n",
              "      <th>F</th>\n",
              "      <th>G</th>\n",
              "      <th>H</th>\n",
              "      <th>I</th>\n",
              "      <th>J</th>\n",
              "      <th>K</th>\n",
              "      <th>L</th>\n",
              "      <th>M</th>\n",
              "      <th>N</th>\n",
              "      <th>O</th>\n",
              "      <th>Class</th>\n",
              "    </tr>\n",
              "  </thead>\n",
              "  <tbody>\n",
              "    <tr>\n",
              "      <th>739135</th>\n",
              "      <td>236.953747</td>\n",
              "      <td>-7.759034</td>\n",
              "      <td>225.159958</td>\n",
              "      <td>-11.995705</td>\n",
              "      <td>136.637974</td>\n",
              "      <td>87.661684</td>\n",
              "      <td>125.075666</td>\n",
              "      <td>200.787092</td>\n",
              "      <td>76.521628</td>\n",
              "      <td>144.867903</td>\n",
              "      <td>213.326676</td>\n",
              "      <td>-2.315755</td>\n",
              "      <td>-28.195627</td>\n",
              "      <td>143.575697</td>\n",
              "      <td>154.203753</td>\n",
              "      <td>0</td>\n",
              "    </tr>\n",
              "    <tr>\n",
              "      <th>1081420</th>\n",
              "      <td>221.033289</td>\n",
              "      <td>-11.187842</td>\n",
              "      <td>210.817531</td>\n",
              "      <td>-15.993283</td>\n",
              "      <td>130.047755</td>\n",
              "      <td>90.522895</td>\n",
              "      <td>108.015150</td>\n",
              "      <td>193.448474</td>\n",
              "      <td>94.147234</td>\n",
              "      <td>130.212659</td>\n",
              "      <td>223.077630</td>\n",
              "      <td>3.780402</td>\n",
              "      <td>-23.207949</td>\n",
              "      <td>148.869317</td>\n",
              "      <td>144.184592</td>\n",
              "      <td>2</td>\n",
              "    </tr>\n",
              "    <tr>\n",
              "      <th>974288</th>\n",
              "      <td>-35.035454</td>\n",
              "      <td>-12.618482</td>\n",
              "      <td>1.916518</td>\n",
              "      <td>13.597099</td>\n",
              "      <td>-26.472790</td>\n",
              "      <td>-20.551867</td>\n",
              "      <td>-1.923341</td>\n",
              "      <td>-25.359377</td>\n",
              "      <td>-5.907361</td>\n",
              "      <td>27.024969</td>\n",
              "      <td>6.250704</td>\n",
              "      <td>-1.762495</td>\n",
              "      <td>-54.645811</td>\n",
              "      <td>-7.743355</td>\n",
              "      <td>2.368558</td>\n",
              "      <td>2</td>\n",
              "    </tr>\n",
              "    <tr>\n",
              "      <th>1005424</th>\n",
              "      <td>-32.141839</td>\n",
              "      <td>-19.411296</td>\n",
              "      <td>13.741958</td>\n",
              "      <td>18.517671</td>\n",
              "      <td>-18.977989</td>\n",
              "      <td>-31.162255</td>\n",
              "      <td>0.696911</td>\n",
              "      <td>-22.133239</td>\n",
              "      <td>-9.090903</td>\n",
              "      <td>24.933827</td>\n",
              "      <td>-0.076681</td>\n",
              "      <td>-0.287504</td>\n",
              "      <td>-51.345522</td>\n",
              "      <td>-7.788391</td>\n",
              "      <td>2.433881</td>\n",
              "      <td>2</td>\n",
              "    </tr>\n",
              "    <tr>\n",
              "      <th>54118</th>\n",
              "      <td>-30.726699</td>\n",
              "      <td>-20.184529</td>\n",
              "      <td>13.559096</td>\n",
              "      <td>19.658662</td>\n",
              "      <td>-27.099861</td>\n",
              "      <td>-21.148438</td>\n",
              "      <td>1.095623</td>\n",
              "      <td>-20.215625</td>\n",
              "      <td>-8.436967</td>\n",
              "      <td>29.737919</td>\n",
              "      <td>3.935207</td>\n",
              "      <td>1.128940</td>\n",
              "      <td>-50.766839</td>\n",
              "      <td>-6.007826</td>\n",
              "      <td>-2.285504</td>\n",
              "      <td>0</td>\n",
              "    </tr>\n",
              "  </tbody>\n",
              "</table>\n",
              "</div>"
            ],
            "text/plain": [
              "                  A          B           C  ...           N           O  Class\n",
              "739135   236.953747  -7.759034  225.159958  ...  143.575697  154.203753      0\n",
              "1081420  221.033289 -11.187842  210.817531  ...  148.869317  144.184592      2\n",
              "974288   -35.035454 -12.618482    1.916518  ...   -7.743355    2.368558      2\n",
              "1005424  -32.141839 -19.411296   13.741958  ...   -7.788391    2.433881      2\n",
              "54118    -30.726699 -20.184529   13.559096  ...   -6.007826   -2.285504      0\n",
              "\n",
              "[5 rows x 16 columns]"
            ]
          },
          "metadata": {
            "tags": []
          },
          "execution_count": 37
        }
      ]
    },
    {
      "cell_type": "markdown",
      "metadata": {
        "id": "Wow7hSuQURq2"
      },
      "source": [
        "Drop class 2 and now label classes 1 and 3 as 0."
      ]
    },
    {
      "cell_type": "code",
      "metadata": {
        "colab": {
          "base_uri": "https://localhost:8080/",
          "height": 224
        },
        "id": "rGFGchTlJvwG",
        "outputId": "94c40b9e-7232-49f0-acb3-416db57cfd29"
      },
      "source": [
        "data_df_only_13 = data_df.copy(deep=True)\n",
        "data_df_only_13.drop(data_df_only_13[data_df_only_13['Class'] ==2].index, inplace = True)\n",
        "data_df_only_13.head()"
      ],
      "execution_count": 38,
      "outputs": [
        {
          "output_type": "execute_result",
          "data": {
            "text/html": [
              "<div>\n",
              "<style scoped>\n",
              "    .dataframe tbody tr th:only-of-type {\n",
              "        vertical-align: middle;\n",
              "    }\n",
              "\n",
              "    .dataframe tbody tr th {\n",
              "        vertical-align: top;\n",
              "    }\n",
              "\n",
              "    .dataframe thead th {\n",
              "        text-align: right;\n",
              "    }\n",
              "</style>\n",
              "<table border=\"1\" class=\"dataframe\">\n",
              "  <thead>\n",
              "    <tr style=\"text-align: right;\">\n",
              "      <th></th>\n",
              "      <th>A</th>\n",
              "      <th>B</th>\n",
              "      <th>C</th>\n",
              "      <th>D</th>\n",
              "      <th>E</th>\n",
              "      <th>F</th>\n",
              "      <th>G</th>\n",
              "      <th>H</th>\n",
              "      <th>I</th>\n",
              "      <th>J</th>\n",
              "      <th>K</th>\n",
              "      <th>L</th>\n",
              "      <th>M</th>\n",
              "      <th>N</th>\n",
              "      <th>O</th>\n",
              "      <th>Class</th>\n",
              "    </tr>\n",
              "  </thead>\n",
              "  <tbody>\n",
              "    <tr>\n",
              "      <th>1</th>\n",
              "      <td>-38.019270</td>\n",
              "      <td>-14.195695</td>\n",
              "      <td>9.583547</td>\n",
              "      <td>22.293822</td>\n",
              "      <td>-25.578283</td>\n",
              "      <td>-18.373955</td>\n",
              "      <td>-0.094457</td>\n",
              "      <td>-33.711852</td>\n",
              "      <td>-8.356041</td>\n",
              "      <td>23.792402</td>\n",
              "      <td>4.199023</td>\n",
              "      <td>2.809159</td>\n",
              "      <td>-59.330681</td>\n",
              "      <td>-11.685950</td>\n",
              "      <td>1.317104</td>\n",
              "      <td>3</td>\n",
              "    </tr>\n",
              "    <tr>\n",
              "      <th>4</th>\n",
              "      <td>228.558412</td>\n",
              "      <td>-12.447710</td>\n",
              "      <td>204.637218</td>\n",
              "      <td>-13.277704</td>\n",
              "      <td>138.930529</td>\n",
              "      <td>91.101870</td>\n",
              "      <td>115.598954</td>\n",
              "      <td>209.300011</td>\n",
              "      <td>89.961688</td>\n",
              "      <td>130.299732</td>\n",
              "      <td>201.795100</td>\n",
              "      <td>-1.573922</td>\n",
              "      <td>-15.128603</td>\n",
              "      <td>148.368622</td>\n",
              "      <td>147.492663</td>\n",
              "      <td>3</td>\n",
              "    </tr>\n",
              "    <tr>\n",
              "      <th>7</th>\n",
              "      <td>-28.620633</td>\n",
              "      <td>-16.324678</td>\n",
              "      <td>6.614499</td>\n",
              "      <td>19.866385</td>\n",
              "      <td>-23.119998</td>\n",
              "      <td>-22.328572</td>\n",
              "      <td>1.477065</td>\n",
              "      <td>-26.383605</td>\n",
              "      <td>-8.616671</td>\n",
              "      <td>28.874319</td>\n",
              "      <td>1.743714</td>\n",
              "      <td>4.953251</td>\n",
              "      <td>-55.702022</td>\n",
              "      <td>-8.014284</td>\n",
              "      <td>2.449081</td>\n",
              "      <td>3</td>\n",
              "    </tr>\n",
              "    <tr>\n",
              "      <th>8</th>\n",
              "      <td>-41.092898</td>\n",
              "      <td>-11.525839</td>\n",
              "      <td>12.027010</td>\n",
              "      <td>18.670988</td>\n",
              "      <td>-19.612979</td>\n",
              "      <td>-25.918632</td>\n",
              "      <td>5.266337</td>\n",
              "      <td>-25.972718</td>\n",
              "      <td>-13.371210</td>\n",
              "      <td>25.709532</td>\n",
              "      <td>-1.515002</td>\n",
              "      <td>-1.041023</td>\n",
              "      <td>-54.683633</td>\n",
              "      <td>-12.382565</td>\n",
              "      <td>5.424004</td>\n",
              "      <td>3</td>\n",
              "    </tr>\n",
              "    <tr>\n",
              "      <th>11</th>\n",
              "      <td>-23.413125</td>\n",
              "      <td>-11.119531</td>\n",
              "      <td>16.910592</td>\n",
              "      <td>18.915184</td>\n",
              "      <td>-25.170026</td>\n",
              "      <td>-28.504337</td>\n",
              "      <td>-2.371616</td>\n",
              "      <td>-26.557941</td>\n",
              "      <td>-4.756554</td>\n",
              "      <td>20.160979</td>\n",
              "      <td>3.415932</td>\n",
              "      <td>8.147177</td>\n",
              "      <td>-52.641582</td>\n",
              "      <td>-6.348362</td>\n",
              "      <td>0.196517</td>\n",
              "      <td>1</td>\n",
              "    </tr>\n",
              "  </tbody>\n",
              "</table>\n",
              "</div>"
            ],
            "text/plain": [
              "             A          B           C  ...           N           O  Class\n",
              "1   -38.019270 -14.195695    9.583547  ...  -11.685950    1.317104      3\n",
              "4   228.558412 -12.447710  204.637218  ...  148.368622  147.492663      3\n",
              "7   -28.620633 -16.324678    6.614499  ...   -8.014284    2.449081      3\n",
              "8   -41.092898 -11.525839   12.027010  ...  -12.382565    5.424004      3\n",
              "11  -23.413125 -11.119531   16.910592  ...   -6.348362    0.196517      1\n",
              "\n",
              "[5 rows x 16 columns]"
            ]
          },
          "metadata": {
            "tags": []
          },
          "execution_count": 38
        }
      ]
    },
    {
      "cell_type": "code",
      "metadata": {
        "colab": {
          "base_uri": "https://localhost:8080/",
          "height": 224
        },
        "id": "dIiHAFlNg1_r",
        "outputId": "312f5082-52b2-4cd7-82e3-29ded4bf6713"
      },
      "source": [
        "#replace label classes 1 and 2 as 0 because thats NOT class 1\n",
        "\n",
        "data_df_only_13.loc[(data_df_only_13['Class'] == 1) | (data_df_only_13['Class'] == 3) , 'Class'] = 0 \n",
        "data_df_only_13.head()"
      ],
      "execution_count": 39,
      "outputs": [
        {
          "output_type": "execute_result",
          "data": {
            "text/html": [
              "<div>\n",
              "<style scoped>\n",
              "    .dataframe tbody tr th:only-of-type {\n",
              "        vertical-align: middle;\n",
              "    }\n",
              "\n",
              "    .dataframe tbody tr th {\n",
              "        vertical-align: top;\n",
              "    }\n",
              "\n",
              "    .dataframe thead th {\n",
              "        text-align: right;\n",
              "    }\n",
              "</style>\n",
              "<table border=\"1\" class=\"dataframe\">\n",
              "  <thead>\n",
              "    <tr style=\"text-align: right;\">\n",
              "      <th></th>\n",
              "      <th>A</th>\n",
              "      <th>B</th>\n",
              "      <th>C</th>\n",
              "      <th>D</th>\n",
              "      <th>E</th>\n",
              "      <th>F</th>\n",
              "      <th>G</th>\n",
              "      <th>H</th>\n",
              "      <th>I</th>\n",
              "      <th>J</th>\n",
              "      <th>K</th>\n",
              "      <th>L</th>\n",
              "      <th>M</th>\n",
              "      <th>N</th>\n",
              "      <th>O</th>\n",
              "      <th>Class</th>\n",
              "    </tr>\n",
              "  </thead>\n",
              "  <tbody>\n",
              "    <tr>\n",
              "      <th>1</th>\n",
              "      <td>-38.019270</td>\n",
              "      <td>-14.195695</td>\n",
              "      <td>9.583547</td>\n",
              "      <td>22.293822</td>\n",
              "      <td>-25.578283</td>\n",
              "      <td>-18.373955</td>\n",
              "      <td>-0.094457</td>\n",
              "      <td>-33.711852</td>\n",
              "      <td>-8.356041</td>\n",
              "      <td>23.792402</td>\n",
              "      <td>4.199023</td>\n",
              "      <td>2.809159</td>\n",
              "      <td>-59.330681</td>\n",
              "      <td>-11.685950</td>\n",
              "      <td>1.317104</td>\n",
              "      <td>0</td>\n",
              "    </tr>\n",
              "    <tr>\n",
              "      <th>4</th>\n",
              "      <td>228.558412</td>\n",
              "      <td>-12.447710</td>\n",
              "      <td>204.637218</td>\n",
              "      <td>-13.277704</td>\n",
              "      <td>138.930529</td>\n",
              "      <td>91.101870</td>\n",
              "      <td>115.598954</td>\n",
              "      <td>209.300011</td>\n",
              "      <td>89.961688</td>\n",
              "      <td>130.299732</td>\n",
              "      <td>201.795100</td>\n",
              "      <td>-1.573922</td>\n",
              "      <td>-15.128603</td>\n",
              "      <td>148.368622</td>\n",
              "      <td>147.492663</td>\n",
              "      <td>0</td>\n",
              "    </tr>\n",
              "    <tr>\n",
              "      <th>7</th>\n",
              "      <td>-28.620633</td>\n",
              "      <td>-16.324678</td>\n",
              "      <td>6.614499</td>\n",
              "      <td>19.866385</td>\n",
              "      <td>-23.119998</td>\n",
              "      <td>-22.328572</td>\n",
              "      <td>1.477065</td>\n",
              "      <td>-26.383605</td>\n",
              "      <td>-8.616671</td>\n",
              "      <td>28.874319</td>\n",
              "      <td>1.743714</td>\n",
              "      <td>4.953251</td>\n",
              "      <td>-55.702022</td>\n",
              "      <td>-8.014284</td>\n",
              "      <td>2.449081</td>\n",
              "      <td>0</td>\n",
              "    </tr>\n",
              "    <tr>\n",
              "      <th>8</th>\n",
              "      <td>-41.092898</td>\n",
              "      <td>-11.525839</td>\n",
              "      <td>12.027010</td>\n",
              "      <td>18.670988</td>\n",
              "      <td>-19.612979</td>\n",
              "      <td>-25.918632</td>\n",
              "      <td>5.266337</td>\n",
              "      <td>-25.972718</td>\n",
              "      <td>-13.371210</td>\n",
              "      <td>25.709532</td>\n",
              "      <td>-1.515002</td>\n",
              "      <td>-1.041023</td>\n",
              "      <td>-54.683633</td>\n",
              "      <td>-12.382565</td>\n",
              "      <td>5.424004</td>\n",
              "      <td>0</td>\n",
              "    </tr>\n",
              "    <tr>\n",
              "      <th>11</th>\n",
              "      <td>-23.413125</td>\n",
              "      <td>-11.119531</td>\n",
              "      <td>16.910592</td>\n",
              "      <td>18.915184</td>\n",
              "      <td>-25.170026</td>\n",
              "      <td>-28.504337</td>\n",
              "      <td>-2.371616</td>\n",
              "      <td>-26.557941</td>\n",
              "      <td>-4.756554</td>\n",
              "      <td>20.160979</td>\n",
              "      <td>3.415932</td>\n",
              "      <td>8.147177</td>\n",
              "      <td>-52.641582</td>\n",
              "      <td>-6.348362</td>\n",
              "      <td>0.196517</td>\n",
              "      <td>0</td>\n",
              "    </tr>\n",
              "  </tbody>\n",
              "</table>\n",
              "</div>"
            ],
            "text/plain": [
              "             A          B           C  ...           N           O  Class\n",
              "1   -38.019270 -14.195695    9.583547  ...  -11.685950    1.317104      0\n",
              "4   228.558412 -12.447710  204.637218  ...  148.368622  147.492663      0\n",
              "7   -28.620633 -16.324678    6.614499  ...   -8.014284    2.449081      0\n",
              "8   -41.092898 -11.525839   12.027010  ...  -12.382565    5.424004      0\n",
              "11  -23.413125 -11.119531   16.910592  ...   -6.348362    0.196517      0\n",
              "\n",
              "[5 rows x 16 columns]"
            ]
          },
          "metadata": {
            "tags": []
          },
          "execution_count": 39
        }
      ]
    },
    {
      "cell_type": "code",
      "metadata": {
        "colab": {
          "base_uri": "https://localhost:8080/",
          "height": 221
        },
        "id": "Vxj6jK6Kg18W",
        "outputId": "bb42ca3b-40df-46b7-b875-e700d3a0caf6"
      },
      "source": [
        "X_13 = pd.DataFrame(data=data_df_only_13.drop('Class', axis=1))\n",
        "X_13.head()\n",
        "training_labels_only_13 = list(X_13.columns)\n",
        "print(training_labels_only_13)\n",
        "y_13 = pd.DataFrame(data=data_df_only_13['Class'])\n",
        "y_13.head()"
      ],
      "execution_count": 40,
      "outputs": [
        {
          "output_type": "stream",
          "text": [
            "['A', 'B', 'C', 'D', 'E', 'F', 'G', 'H', 'I', 'J', 'K', 'L', 'M', 'N', 'O']\n"
          ],
          "name": "stdout"
        },
        {
          "output_type": "execute_result",
          "data": {
            "text/html": [
              "<div>\n",
              "<style scoped>\n",
              "    .dataframe tbody tr th:only-of-type {\n",
              "        vertical-align: middle;\n",
              "    }\n",
              "\n",
              "    .dataframe tbody tr th {\n",
              "        vertical-align: top;\n",
              "    }\n",
              "\n",
              "    .dataframe thead th {\n",
              "        text-align: right;\n",
              "    }\n",
              "</style>\n",
              "<table border=\"1\" class=\"dataframe\">\n",
              "  <thead>\n",
              "    <tr style=\"text-align: right;\">\n",
              "      <th></th>\n",
              "      <th>Class</th>\n",
              "    </tr>\n",
              "  </thead>\n",
              "  <tbody>\n",
              "    <tr>\n",
              "      <th>1</th>\n",
              "      <td>0</td>\n",
              "    </tr>\n",
              "    <tr>\n",
              "      <th>4</th>\n",
              "      <td>0</td>\n",
              "    </tr>\n",
              "    <tr>\n",
              "      <th>7</th>\n",
              "      <td>0</td>\n",
              "    </tr>\n",
              "    <tr>\n",
              "      <th>8</th>\n",
              "      <td>0</td>\n",
              "    </tr>\n",
              "    <tr>\n",
              "      <th>11</th>\n",
              "      <td>0</td>\n",
              "    </tr>\n",
              "  </tbody>\n",
              "</table>\n",
              "</div>"
            ],
            "text/plain": [
              "    Class\n",
              "1       0\n",
              "4       0\n",
              "7       0\n",
              "8       0\n",
              "11      0"
            ]
          },
          "metadata": {
            "tags": []
          },
          "execution_count": 40
        }
      ]
    },
    {
      "cell_type": "code",
      "metadata": {
        "id": "MYim8V1_UhDn"
      },
      "source": [
        "x_train_13, x_test_13, y_train_13, y_test_13 = train_test_split(X_13, y_13, test_size=0.20, random_state=97)"
      ],
      "execution_count": 41,
      "outputs": []
    },
    {
      "cell_type": "markdown",
      "metadata": {
        "id": "EzwFimL7Ygup"
      },
      "source": [
        "[3.6.3] Create a Dataframe with values 3 and NOT 3 that is class 1 & 2 and replace these values with 0"
      ]
    },
    {
      "cell_type": "code",
      "metadata": {
        "colab": {
          "base_uri": "https://localhost:8080/"
        },
        "id": "psRnFC6HYgKb",
        "outputId": "b8ba91f3-d3d6-4666-cf0d-b89b997a5e3b"
      },
      "source": [
        "data_df_3 = data_df.copy(deep=True)\n",
        "data_df_3.loc[(data_df_3['Class'] == 1)|(data_df_3['Class'] == 2) , 'Class'] = 0\n",
        "data_df_3['Class'].unique()\n"
      ],
      "execution_count": 42,
      "outputs": [
        {
          "output_type": "execute_result",
          "data": {
            "text/plain": [
              "array([0, 3])"
            ]
          },
          "metadata": {
            "tags": []
          },
          "execution_count": 42
        }
      ]
    },
    {
      "cell_type": "code",
      "metadata": {
        "colab": {
          "base_uri": "https://localhost:8080/",
          "height": 221
        },
        "id": "YsKI72HzUg9C",
        "outputId": "740eca2a-e5d1-4628-91fb-dee0d5ce4b09"
      },
      "source": [
        "X_3 = pd.DataFrame(data=data_df_3.drop('Class', axis=1))\n",
        "X_3.head()\n",
        "training_labels_3 = list(X_3.columns)\n",
        "print(training_labels_3)\n",
        "y_3 = pd.DataFrame(data=data_df_3['Class'])\n",
        "y_3.head()"
      ],
      "execution_count": 43,
      "outputs": [
        {
          "output_type": "stream",
          "text": [
            "['A', 'B', 'C', 'D', 'E', 'F', 'G', 'H', 'I', 'J', 'K', 'L', 'M', 'N', 'O']\n"
          ],
          "name": "stdout"
        },
        {
          "output_type": "execute_result",
          "data": {
            "text/html": [
              "<div>\n",
              "<style scoped>\n",
              "    .dataframe tbody tr th:only-of-type {\n",
              "        vertical-align: middle;\n",
              "    }\n",
              "\n",
              "    .dataframe tbody tr th {\n",
              "        vertical-align: top;\n",
              "    }\n",
              "\n",
              "    .dataframe thead th {\n",
              "        text-align: right;\n",
              "    }\n",
              "</style>\n",
              "<table border=\"1\" class=\"dataframe\">\n",
              "  <thead>\n",
              "    <tr style=\"text-align: right;\">\n",
              "      <th></th>\n",
              "      <th>Class</th>\n",
              "    </tr>\n",
              "  </thead>\n",
              "  <tbody>\n",
              "    <tr>\n",
              "      <th>0</th>\n",
              "      <td>0</td>\n",
              "    </tr>\n",
              "    <tr>\n",
              "      <th>1</th>\n",
              "      <td>3</td>\n",
              "    </tr>\n",
              "    <tr>\n",
              "      <th>2</th>\n",
              "      <td>0</td>\n",
              "    </tr>\n",
              "    <tr>\n",
              "      <th>3</th>\n",
              "      <td>0</td>\n",
              "    </tr>\n",
              "    <tr>\n",
              "      <th>4</th>\n",
              "      <td>3</td>\n",
              "    </tr>\n",
              "  </tbody>\n",
              "</table>\n",
              "</div>"
            ],
            "text/plain": [
              "   Class\n",
              "0      0\n",
              "1      3\n",
              "2      0\n",
              "3      0\n",
              "4      3"
            ]
          },
          "metadata": {
            "tags": []
          },
          "execution_count": 43
        }
      ]
    },
    {
      "cell_type": "code",
      "metadata": {
        "id": "ErAIJMyqUg6s"
      },
      "source": [
        "x_train_3, x_test_3, y_train_3, y_test_3 = train_test_split(X_3, y_3, test_size=0.20, random_state=97)"
      ],
      "execution_count": 44,
      "outputs": []
    },
    {
      "cell_type": "code",
      "metadata": {
        "colab": {
          "base_uri": "https://localhost:8080/",
          "height": 224
        },
        "id": "rCfkKClzY7Kn",
        "outputId": "01844367-20f5-4b1f-f9b9-5ea582e406fa"
      },
      "source": [
        "training_data_3 = pd.concat([x_train_3,y_train_3],axis=1)\n",
        "training_data_3.head()\n"
      ],
      "execution_count": 45,
      "outputs": [
        {
          "output_type": "execute_result",
          "data": {
            "text/html": [
              "<div>\n",
              "<style scoped>\n",
              "    .dataframe tbody tr th:only-of-type {\n",
              "        vertical-align: middle;\n",
              "    }\n",
              "\n",
              "    .dataframe tbody tr th {\n",
              "        vertical-align: top;\n",
              "    }\n",
              "\n",
              "    .dataframe thead th {\n",
              "        text-align: right;\n",
              "    }\n",
              "</style>\n",
              "<table border=\"1\" class=\"dataframe\">\n",
              "  <thead>\n",
              "    <tr style=\"text-align: right;\">\n",
              "      <th></th>\n",
              "      <th>A</th>\n",
              "      <th>B</th>\n",
              "      <th>C</th>\n",
              "      <th>D</th>\n",
              "      <th>E</th>\n",
              "      <th>F</th>\n",
              "      <th>G</th>\n",
              "      <th>H</th>\n",
              "      <th>I</th>\n",
              "      <th>J</th>\n",
              "      <th>K</th>\n",
              "      <th>L</th>\n",
              "      <th>M</th>\n",
              "      <th>N</th>\n",
              "      <th>O</th>\n",
              "      <th>Class</th>\n",
              "    </tr>\n",
              "  </thead>\n",
              "  <tbody>\n",
              "    <tr>\n",
              "      <th>739135</th>\n",
              "      <td>236.953747</td>\n",
              "      <td>-7.759034</td>\n",
              "      <td>225.159958</td>\n",
              "      <td>-11.995705</td>\n",
              "      <td>136.637974</td>\n",
              "      <td>87.661684</td>\n",
              "      <td>125.075666</td>\n",
              "      <td>200.787092</td>\n",
              "      <td>76.521628</td>\n",
              "      <td>144.867903</td>\n",
              "      <td>213.326676</td>\n",
              "      <td>-2.315755</td>\n",
              "      <td>-28.195627</td>\n",
              "      <td>143.575697</td>\n",
              "      <td>154.203753</td>\n",
              "      <td>3</td>\n",
              "    </tr>\n",
              "    <tr>\n",
              "      <th>1081420</th>\n",
              "      <td>221.033289</td>\n",
              "      <td>-11.187842</td>\n",
              "      <td>210.817531</td>\n",
              "      <td>-15.993283</td>\n",
              "      <td>130.047755</td>\n",
              "      <td>90.522895</td>\n",
              "      <td>108.015150</td>\n",
              "      <td>193.448474</td>\n",
              "      <td>94.147234</td>\n",
              "      <td>130.212659</td>\n",
              "      <td>223.077630</td>\n",
              "      <td>3.780402</td>\n",
              "      <td>-23.207949</td>\n",
              "      <td>148.869317</td>\n",
              "      <td>144.184592</td>\n",
              "      <td>0</td>\n",
              "    </tr>\n",
              "    <tr>\n",
              "      <th>974288</th>\n",
              "      <td>-35.035454</td>\n",
              "      <td>-12.618482</td>\n",
              "      <td>1.916518</td>\n",
              "      <td>13.597099</td>\n",
              "      <td>-26.472790</td>\n",
              "      <td>-20.551867</td>\n",
              "      <td>-1.923341</td>\n",
              "      <td>-25.359377</td>\n",
              "      <td>-5.907361</td>\n",
              "      <td>27.024969</td>\n",
              "      <td>6.250704</td>\n",
              "      <td>-1.762495</td>\n",
              "      <td>-54.645811</td>\n",
              "      <td>-7.743355</td>\n",
              "      <td>2.368558</td>\n",
              "      <td>0</td>\n",
              "    </tr>\n",
              "    <tr>\n",
              "      <th>1005424</th>\n",
              "      <td>-32.141839</td>\n",
              "      <td>-19.411296</td>\n",
              "      <td>13.741958</td>\n",
              "      <td>18.517671</td>\n",
              "      <td>-18.977989</td>\n",
              "      <td>-31.162255</td>\n",
              "      <td>0.696911</td>\n",
              "      <td>-22.133239</td>\n",
              "      <td>-9.090903</td>\n",
              "      <td>24.933827</td>\n",
              "      <td>-0.076681</td>\n",
              "      <td>-0.287504</td>\n",
              "      <td>-51.345522</td>\n",
              "      <td>-7.788391</td>\n",
              "      <td>2.433881</td>\n",
              "      <td>0</td>\n",
              "    </tr>\n",
              "    <tr>\n",
              "      <th>54118</th>\n",
              "      <td>-30.726699</td>\n",
              "      <td>-20.184529</td>\n",
              "      <td>13.559096</td>\n",
              "      <td>19.658662</td>\n",
              "      <td>-27.099861</td>\n",
              "      <td>-21.148438</td>\n",
              "      <td>1.095623</td>\n",
              "      <td>-20.215625</td>\n",
              "      <td>-8.436967</td>\n",
              "      <td>29.737919</td>\n",
              "      <td>3.935207</td>\n",
              "      <td>1.128940</td>\n",
              "      <td>-50.766839</td>\n",
              "      <td>-6.007826</td>\n",
              "      <td>-2.285504</td>\n",
              "      <td>3</td>\n",
              "    </tr>\n",
              "  </tbody>\n",
              "</table>\n",
              "</div>"
            ],
            "text/plain": [
              "                  A          B           C  ...           N           O  Class\n",
              "739135   236.953747  -7.759034  225.159958  ...  143.575697  154.203753      3\n",
              "1081420  221.033289 -11.187842  210.817531  ...  148.869317  144.184592      0\n",
              "974288   -35.035454 -12.618482    1.916518  ...   -7.743355    2.368558      0\n",
              "1005424  -32.141839 -19.411296   13.741958  ...   -7.788391    2.433881      0\n",
              "54118    -30.726699 -20.184529   13.559096  ...   -6.007826   -2.285504      3\n",
              "\n",
              "[5 rows x 16 columns]"
            ]
          },
          "metadata": {
            "tags": []
          },
          "execution_count": 45
        }
      ]
    },
    {
      "cell_type": "markdown",
      "metadata": {
        "id": "B_FmZ2A9ZmZD"
      },
      "source": [
        "Drop class 3 and now label classes 1 and 2 as 0 ie NOT class 3(1 & 2)"
      ]
    },
    {
      "cell_type": "code",
      "metadata": {
        "colab": {
          "base_uri": "https://localhost:8080/",
          "height": 224
        },
        "id": "rl0PRl4ZY7H2",
        "outputId": "3f101a4a-974e-492c-da68-6a32f6704db9"
      },
      "source": [
        "data_df_only_12 = data_df.copy(deep=True)\n",
        "data_df_only_12.drop(data_df_only_12[data_df_only_12['Class'] ==3].index, inplace = True)\n",
        "data_df_only_12.head()"
      ],
      "execution_count": 46,
      "outputs": [
        {
          "output_type": "execute_result",
          "data": {
            "text/html": [
              "<div>\n",
              "<style scoped>\n",
              "    .dataframe tbody tr th:only-of-type {\n",
              "        vertical-align: middle;\n",
              "    }\n",
              "\n",
              "    .dataframe tbody tr th {\n",
              "        vertical-align: top;\n",
              "    }\n",
              "\n",
              "    .dataframe thead th {\n",
              "        text-align: right;\n",
              "    }\n",
              "</style>\n",
              "<table border=\"1\" class=\"dataframe\">\n",
              "  <thead>\n",
              "    <tr style=\"text-align: right;\">\n",
              "      <th></th>\n",
              "      <th>A</th>\n",
              "      <th>B</th>\n",
              "      <th>C</th>\n",
              "      <th>D</th>\n",
              "      <th>E</th>\n",
              "      <th>F</th>\n",
              "      <th>G</th>\n",
              "      <th>H</th>\n",
              "      <th>I</th>\n",
              "      <th>J</th>\n",
              "      <th>K</th>\n",
              "      <th>L</th>\n",
              "      <th>M</th>\n",
              "      <th>N</th>\n",
              "      <th>O</th>\n",
              "      <th>Class</th>\n",
              "    </tr>\n",
              "  </thead>\n",
              "  <tbody>\n",
              "    <tr>\n",
              "      <th>0</th>\n",
              "      <td>231.420023</td>\n",
              "      <td>-12.210984</td>\n",
              "      <td>217.624839</td>\n",
              "      <td>-15.611916</td>\n",
              "      <td>140.047185</td>\n",
              "      <td>76.904999</td>\n",
              "      <td>131.591871</td>\n",
              "      <td>198.160805</td>\n",
              "      <td>82.873279</td>\n",
              "      <td>127.350084</td>\n",
              "      <td>224.592926</td>\n",
              "      <td>-5.992983</td>\n",
              "      <td>-14.689648</td>\n",
              "      <td>143.072058</td>\n",
              "      <td>153.439659</td>\n",
              "      <td>2</td>\n",
              "    </tr>\n",
              "    <tr>\n",
              "      <th>2</th>\n",
              "      <td>-39.197085</td>\n",
              "      <td>-20.418850</td>\n",
              "      <td>21.023083</td>\n",
              "      <td>19.790280</td>\n",
              "      <td>-25.902587</td>\n",
              "      <td>-19.189004</td>\n",
              "      <td>-2.953836</td>\n",
              "      <td>-25.299219</td>\n",
              "      <td>-6.612401</td>\n",
              "      <td>26.285392</td>\n",
              "      <td>5.911292</td>\n",
              "      <td>6.191587</td>\n",
              "      <td>-56.924996</td>\n",
              "      <td>-4.675187</td>\n",
              "      <td>-1.027830</td>\n",
              "      <td>2</td>\n",
              "    </tr>\n",
              "    <tr>\n",
              "      <th>3</th>\n",
              "      <td>221.630408</td>\n",
              "      <td>-5.785352</td>\n",
              "      <td>216.725322</td>\n",
              "      <td>-9.900781</td>\n",
              "      <td>126.795177</td>\n",
              "      <td>85.122288</td>\n",
              "      <td>108.857593</td>\n",
              "      <td>197.640135</td>\n",
              "      <td>82.560019</td>\n",
              "      <td>157.105143</td>\n",
              "      <td>212.989231</td>\n",
              "      <td>-3.621070</td>\n",
              "      <td>-15.469156</td>\n",
              "      <td>135.265859</td>\n",
              "      <td>149.212489</td>\n",
              "      <td>2</td>\n",
              "    </tr>\n",
              "    <tr>\n",
              "      <th>5</th>\n",
              "      <td>235.027198</td>\n",
              "      <td>-16.081132</td>\n",
              "      <td>213.391582</td>\n",
              "      <td>-12.934912</td>\n",
              "      <td>122.413766</td>\n",
              "      <td>80.222540</td>\n",
              "      <td>125.240412</td>\n",
              "      <td>185.694965</td>\n",
              "      <td>66.072251</td>\n",
              "      <td>142.555417</td>\n",
              "      <td>213.442083</td>\n",
              "      <td>0.728989</td>\n",
              "      <td>-26.046291</td>\n",
              "      <td>137.529415</td>\n",
              "      <td>143.348783</td>\n",
              "      <td>2</td>\n",
              "    </tr>\n",
              "    <tr>\n",
              "      <th>6</th>\n",
              "      <td>-35.819795</td>\n",
              "      <td>-16.688245</td>\n",
              "      <td>5.738227</td>\n",
              "      <td>17.570011</td>\n",
              "      <td>-31.523595</td>\n",
              "      <td>-20.625764</td>\n",
              "      <td>0.077354</td>\n",
              "      <td>-28.944922</td>\n",
              "      <td>-10.699215</td>\n",
              "      <td>26.982097</td>\n",
              "      <td>2.958726</td>\n",
              "      <td>-2.365574</td>\n",
              "      <td>-56.082634</td>\n",
              "      <td>-6.918042</td>\n",
              "      <td>-0.996789</td>\n",
              "      <td>2</td>\n",
              "    </tr>\n",
              "  </tbody>\n",
              "</table>\n",
              "</div>"
            ],
            "text/plain": [
              "            A          B           C  ...           N           O  Class\n",
              "0  231.420023 -12.210984  217.624839  ...  143.072058  153.439659      2\n",
              "2  -39.197085 -20.418850   21.023083  ...   -4.675187   -1.027830      2\n",
              "3  221.630408  -5.785352  216.725322  ...  135.265859  149.212489      2\n",
              "5  235.027198 -16.081132  213.391582  ...  137.529415  143.348783      2\n",
              "6  -35.819795 -16.688245    5.738227  ...   -6.918042   -0.996789      2\n",
              "\n",
              "[5 rows x 16 columns]"
            ]
          },
          "metadata": {
            "tags": []
          },
          "execution_count": 46
        }
      ]
    },
    {
      "cell_type": "code",
      "metadata": {
        "colab": {
          "base_uri": "https://localhost:8080/",
          "height": 224
        },
        "id": "GWtlwfhuY7FG",
        "outputId": "b9a93a8c-8a04-4c7d-9187-251c4bc1c068"
      },
      "source": [
        "#replace label classes 1 and 2 as 0 because thats NOT class 1\n",
        "\n",
        "data_df_only_12.loc[(data_df_only_12['Class'] == 1) | (data_df_only_12['Class'] == 2) , 'Class'] = 0 \n",
        "data_df_only_12.head()"
      ],
      "execution_count": 47,
      "outputs": [
        {
          "output_type": "execute_result",
          "data": {
            "text/html": [
              "<div>\n",
              "<style scoped>\n",
              "    .dataframe tbody tr th:only-of-type {\n",
              "        vertical-align: middle;\n",
              "    }\n",
              "\n",
              "    .dataframe tbody tr th {\n",
              "        vertical-align: top;\n",
              "    }\n",
              "\n",
              "    .dataframe thead th {\n",
              "        text-align: right;\n",
              "    }\n",
              "</style>\n",
              "<table border=\"1\" class=\"dataframe\">\n",
              "  <thead>\n",
              "    <tr style=\"text-align: right;\">\n",
              "      <th></th>\n",
              "      <th>A</th>\n",
              "      <th>B</th>\n",
              "      <th>C</th>\n",
              "      <th>D</th>\n",
              "      <th>E</th>\n",
              "      <th>F</th>\n",
              "      <th>G</th>\n",
              "      <th>H</th>\n",
              "      <th>I</th>\n",
              "      <th>J</th>\n",
              "      <th>K</th>\n",
              "      <th>L</th>\n",
              "      <th>M</th>\n",
              "      <th>N</th>\n",
              "      <th>O</th>\n",
              "      <th>Class</th>\n",
              "    </tr>\n",
              "  </thead>\n",
              "  <tbody>\n",
              "    <tr>\n",
              "      <th>0</th>\n",
              "      <td>231.420023</td>\n",
              "      <td>-12.210984</td>\n",
              "      <td>217.624839</td>\n",
              "      <td>-15.611916</td>\n",
              "      <td>140.047185</td>\n",
              "      <td>76.904999</td>\n",
              "      <td>131.591871</td>\n",
              "      <td>198.160805</td>\n",
              "      <td>82.873279</td>\n",
              "      <td>127.350084</td>\n",
              "      <td>224.592926</td>\n",
              "      <td>-5.992983</td>\n",
              "      <td>-14.689648</td>\n",
              "      <td>143.072058</td>\n",
              "      <td>153.439659</td>\n",
              "      <td>0</td>\n",
              "    </tr>\n",
              "    <tr>\n",
              "      <th>2</th>\n",
              "      <td>-39.197085</td>\n",
              "      <td>-20.418850</td>\n",
              "      <td>21.023083</td>\n",
              "      <td>19.790280</td>\n",
              "      <td>-25.902587</td>\n",
              "      <td>-19.189004</td>\n",
              "      <td>-2.953836</td>\n",
              "      <td>-25.299219</td>\n",
              "      <td>-6.612401</td>\n",
              "      <td>26.285392</td>\n",
              "      <td>5.911292</td>\n",
              "      <td>6.191587</td>\n",
              "      <td>-56.924996</td>\n",
              "      <td>-4.675187</td>\n",
              "      <td>-1.027830</td>\n",
              "      <td>0</td>\n",
              "    </tr>\n",
              "    <tr>\n",
              "      <th>3</th>\n",
              "      <td>221.630408</td>\n",
              "      <td>-5.785352</td>\n",
              "      <td>216.725322</td>\n",
              "      <td>-9.900781</td>\n",
              "      <td>126.795177</td>\n",
              "      <td>85.122288</td>\n",
              "      <td>108.857593</td>\n",
              "      <td>197.640135</td>\n",
              "      <td>82.560019</td>\n",
              "      <td>157.105143</td>\n",
              "      <td>212.989231</td>\n",
              "      <td>-3.621070</td>\n",
              "      <td>-15.469156</td>\n",
              "      <td>135.265859</td>\n",
              "      <td>149.212489</td>\n",
              "      <td>0</td>\n",
              "    </tr>\n",
              "    <tr>\n",
              "      <th>5</th>\n",
              "      <td>235.027198</td>\n",
              "      <td>-16.081132</td>\n",
              "      <td>213.391582</td>\n",
              "      <td>-12.934912</td>\n",
              "      <td>122.413766</td>\n",
              "      <td>80.222540</td>\n",
              "      <td>125.240412</td>\n",
              "      <td>185.694965</td>\n",
              "      <td>66.072251</td>\n",
              "      <td>142.555417</td>\n",
              "      <td>213.442083</td>\n",
              "      <td>0.728989</td>\n",
              "      <td>-26.046291</td>\n",
              "      <td>137.529415</td>\n",
              "      <td>143.348783</td>\n",
              "      <td>0</td>\n",
              "    </tr>\n",
              "    <tr>\n",
              "      <th>6</th>\n",
              "      <td>-35.819795</td>\n",
              "      <td>-16.688245</td>\n",
              "      <td>5.738227</td>\n",
              "      <td>17.570011</td>\n",
              "      <td>-31.523595</td>\n",
              "      <td>-20.625764</td>\n",
              "      <td>0.077354</td>\n",
              "      <td>-28.944922</td>\n",
              "      <td>-10.699215</td>\n",
              "      <td>26.982097</td>\n",
              "      <td>2.958726</td>\n",
              "      <td>-2.365574</td>\n",
              "      <td>-56.082634</td>\n",
              "      <td>-6.918042</td>\n",
              "      <td>-0.996789</td>\n",
              "      <td>0</td>\n",
              "    </tr>\n",
              "  </tbody>\n",
              "</table>\n",
              "</div>"
            ],
            "text/plain": [
              "            A          B           C  ...           N           O  Class\n",
              "0  231.420023 -12.210984  217.624839  ...  143.072058  153.439659      0\n",
              "2  -39.197085 -20.418850   21.023083  ...   -4.675187   -1.027830      0\n",
              "3  221.630408  -5.785352  216.725322  ...  135.265859  149.212489      0\n",
              "5  235.027198 -16.081132  213.391582  ...  137.529415  143.348783      0\n",
              "6  -35.819795 -16.688245    5.738227  ...   -6.918042   -0.996789      0\n",
              "\n",
              "[5 rows x 16 columns]"
            ]
          },
          "metadata": {
            "tags": []
          },
          "execution_count": 47
        }
      ]
    },
    {
      "cell_type": "code",
      "metadata": {
        "colab": {
          "base_uri": "https://localhost:8080/",
          "height": 221
        },
        "id": "fhxkajjgY7Ce",
        "outputId": "832e7ee1-611c-4e63-a055-0f3e8b58d353"
      },
      "source": [
        "X_12 = pd.DataFrame(data=data_df_only_12.drop('Class', axis=1))\n",
        "X_12.head()\n",
        "training_labels_only_23 = list(X_12.columns)\n",
        "print(training_labels_only_23)\n",
        "y_12 = pd.DataFrame(data=data_df_only_12['Class'])\n",
        "y_12.head()"
      ],
      "execution_count": 48,
      "outputs": [
        {
          "output_type": "stream",
          "text": [
            "['A', 'B', 'C', 'D', 'E', 'F', 'G', 'H', 'I', 'J', 'K', 'L', 'M', 'N', 'O']\n"
          ],
          "name": "stdout"
        },
        {
          "output_type": "execute_result",
          "data": {
            "text/html": [
              "<div>\n",
              "<style scoped>\n",
              "    .dataframe tbody tr th:only-of-type {\n",
              "        vertical-align: middle;\n",
              "    }\n",
              "\n",
              "    .dataframe tbody tr th {\n",
              "        vertical-align: top;\n",
              "    }\n",
              "\n",
              "    .dataframe thead th {\n",
              "        text-align: right;\n",
              "    }\n",
              "</style>\n",
              "<table border=\"1\" class=\"dataframe\">\n",
              "  <thead>\n",
              "    <tr style=\"text-align: right;\">\n",
              "      <th></th>\n",
              "      <th>Class</th>\n",
              "    </tr>\n",
              "  </thead>\n",
              "  <tbody>\n",
              "    <tr>\n",
              "      <th>0</th>\n",
              "      <td>0</td>\n",
              "    </tr>\n",
              "    <tr>\n",
              "      <th>2</th>\n",
              "      <td>0</td>\n",
              "    </tr>\n",
              "    <tr>\n",
              "      <th>3</th>\n",
              "      <td>0</td>\n",
              "    </tr>\n",
              "    <tr>\n",
              "      <th>5</th>\n",
              "      <td>0</td>\n",
              "    </tr>\n",
              "    <tr>\n",
              "      <th>6</th>\n",
              "      <td>0</td>\n",
              "    </tr>\n",
              "  </tbody>\n",
              "</table>\n",
              "</div>"
            ],
            "text/plain": [
              "   Class\n",
              "0      0\n",
              "2      0\n",
              "3      0\n",
              "5      0\n",
              "6      0"
            ]
          },
          "metadata": {
            "tags": []
          },
          "execution_count": 48
        }
      ]
    },
    {
      "cell_type": "code",
      "metadata": {
        "id": "cQsUg6uDY7AH"
      },
      "source": [
        "x_train_12, x_test_12, y_train_12, y_test_12 = train_test_split(X_12, y_12, test_size=0.20, random_state=97)"
      ],
      "execution_count": 49,
      "outputs": []
    },
    {
      "cell_type": "markdown",
      "metadata": {
        "id": "Iz9p0IYK34s8"
      },
      "source": [
        "I have trained the above dataframes on different Decision tree classifier models , this part comes under **[4] Model training** part of this document."
      ]
    },
    {
      "cell_type": "code",
      "metadata": {
        "id": "9CObNcbMY6zw"
      },
      "source": [
        ""
      ],
      "execution_count": null,
      "outputs": []
    },
    {
      "cell_type": "markdown",
      "metadata": {
        "id": "yslVW-0ZSQzg"
      },
      "source": [
        "Also, I have created a dataframe with class lables 2 and 3 and trained the model to test how accurate the model performs for class 2 vs class 3."
      ]
    },
    {
      "cell_type": "code",
      "metadata": {
        "id": "13nDcLm8GDzG"
      },
      "source": [
        "data_df_2v3 = data_df.copy(deep=True) "
      ],
      "execution_count": 50,
      "outputs": []
    },
    {
      "cell_type": "code",
      "metadata": {
        "colab": {
          "base_uri": "https://localhost:8080/"
        },
        "id": "nfSiE02pg157",
        "outputId": "c78f5de5-3c3e-4c00-95c6-9b166053f0e3"
      },
      "source": [
        "data_df_2v3 = data_df_2v3[data_df_2v3.Class.isin([2,3])]\n",
        "data_df_2v3.head()\n",
        "data_df_2v3['Class'].unique()"
      ],
      "execution_count": 51,
      "outputs": [
        {
          "output_type": "execute_result",
          "data": {
            "text/plain": [
              "array([2, 3])"
            ]
          },
          "metadata": {
            "tags": []
          },
          "execution_count": 51
        }
      ]
    },
    {
      "cell_type": "code",
      "metadata": {
        "colab": {
          "base_uri": "https://localhost:8080/",
          "height": 221
        },
        "id": "PS02hfP3hf10",
        "outputId": "6f71d794-db16-409d-e0e3-6dba19483c6d"
      },
      "source": [
        "X_2v3 = pd.DataFrame(data=data_df_2v3.drop('Class', axis=1))\n",
        "X_2v3.head()\n",
        "training_labels_2v3 = list(X_2v3.columns)\n",
        "print(training_labels_2v3)\n",
        "y_2v3 = pd.DataFrame(data=data_df_2v3['Class'])\n",
        "y_2v3.head()"
      ],
      "execution_count": 52,
      "outputs": [
        {
          "output_type": "stream",
          "text": [
            "['A', 'B', 'C', 'D', 'E', 'F', 'G', 'H', 'I', 'J', 'K', 'L', 'M', 'N', 'O']\n"
          ],
          "name": "stdout"
        },
        {
          "output_type": "execute_result",
          "data": {
            "text/html": [
              "<div>\n",
              "<style scoped>\n",
              "    .dataframe tbody tr th:only-of-type {\n",
              "        vertical-align: middle;\n",
              "    }\n",
              "\n",
              "    .dataframe tbody tr th {\n",
              "        vertical-align: top;\n",
              "    }\n",
              "\n",
              "    .dataframe thead th {\n",
              "        text-align: right;\n",
              "    }\n",
              "</style>\n",
              "<table border=\"1\" class=\"dataframe\">\n",
              "  <thead>\n",
              "    <tr style=\"text-align: right;\">\n",
              "      <th></th>\n",
              "      <th>Class</th>\n",
              "    </tr>\n",
              "  </thead>\n",
              "  <tbody>\n",
              "    <tr>\n",
              "      <th>0</th>\n",
              "      <td>2</td>\n",
              "    </tr>\n",
              "    <tr>\n",
              "      <th>1</th>\n",
              "      <td>3</td>\n",
              "    </tr>\n",
              "    <tr>\n",
              "      <th>2</th>\n",
              "      <td>2</td>\n",
              "    </tr>\n",
              "    <tr>\n",
              "      <th>3</th>\n",
              "      <td>2</td>\n",
              "    </tr>\n",
              "    <tr>\n",
              "      <th>4</th>\n",
              "      <td>3</td>\n",
              "    </tr>\n",
              "  </tbody>\n",
              "</table>\n",
              "</div>"
            ],
            "text/plain": [
              "   Class\n",
              "0      2\n",
              "1      3\n",
              "2      2\n",
              "3      2\n",
              "4      3"
            ]
          },
          "metadata": {
            "tags": []
          },
          "execution_count": 52
        }
      ]
    },
    {
      "cell_type": "code",
      "metadata": {
        "id": "o5JFYusqhfzT"
      },
      "source": [
        "x_train_2v3, x_test_2v3, y_train_2v3, y_test_2v3 = train_test_split(X_2v3, y_2v3, test_size=0.20, random_state=97)"
      ],
      "execution_count": 53,
      "outputs": []
    },
    {
      "cell_type": "code",
      "metadata": {
        "id": "NHql6YdZdM1e"
      },
      "source": [
        ""
      ],
      "execution_count": null,
      "outputs": []
    },
    {
      "cell_type": "markdown",
      "metadata": {
        "id": "4RpXB-oaqyqF"
      },
      "source": [
        "**[4] Model Training and Model Validation:** \n",
        "\n",
        "\n",
        "\n",
        "\n"
      ]
    },
    {
      "cell_type": "markdown",
      "metadata": {
        "id": "O7fwK_8TGOdB"
      },
      "source": [
        "The training performance (Performance Criteria) , Testing results and Biases/risk have been discussed in the following section."
      ]
    },
    {
      "cell_type": "markdown",
      "metadata": {
        "id": "lATrJ_0i-Fbh"
      },
      "source": [
        "[4.1] Model Selection : Here I have trained mutiple models on mutiple binary classification datasets. "
      ]
    },
    {
      "cell_type": "markdown",
      "metadata": {
        "id": "JaZOsjYh_gTP"
      },
      "source": [
        "Descision tree for class 1 and not 1 : Now lets train a Decision tree classifier with max_dept=3. For this model we are passing the 1 verses NOT 1 dataframe."
      ]
    },
    {
      "cell_type": "code",
      "metadata": {
        "colab": {
          "base_uri": "https://localhost:8080/"
        },
        "id": "El71v0cQt_DT",
        "outputId": "c4a562b1-5023-4793-e8b5-a907071e081f"
      },
      "source": [
        "#Descision tree for class 1 and not 1\n",
        "pipeline_dc_1= Pipeline(steps=[('scaler',StandardScaler()), ('pca',PCA(n_components=1)), ('classifier',DecisionTreeClassifier(max_depth=3))])\n",
        "dc_model_1= pipeline_dc_1.fit(x_train_1, y_train_1)\n",
        "\n",
        "\n",
        "print(dc_model_1.score(x_test_1,y_test_1))"
      ],
      "execution_count": 54,
      "outputs": [
        {
          "output_type": "stream",
          "text": [
            "0.8327041666666667\n"
          ],
          "name": "stdout"
        }
      ]
    },
    {
      "cell_type": "markdown",
      "metadata": {
        "id": "eV4B2DNi-zDT"
      },
      "source": [
        "The above results shows that the model is accurate( 83.27 %) in classifying class 1 and not class 1. This gives us an insight that we can thus use this model to classify classes 2 and 3 which are basically NOT class 1.\n"
      ]
    },
    {
      "cell_type": "markdown",
      "metadata": {
        "id": "UThHB7Mh56Cw"
      },
      "source": [
        "Now run the same above model on classes with Only 'NOT 1' that is class 0(clsses 2 &3)"
      ]
    },
    {
      "cell_type": "code",
      "metadata": {
        "colab": {
          "base_uri": "https://localhost:8080/"
        },
        "id": "5qZP8El_ApAl",
        "outputId": "eec46ac6-69f6-48dd-a5a8-522cc12e1355"
      },
      "source": [
        "print(dc_model_1.score(x_test_23,y_test_23))"
      ],
      "execution_count": 55,
      "outputs": [
        {
          "output_type": "stream",
          "text": [
            "1.0\n"
          ],
          "name": "stdout"
        }
      ]
    },
    {
      "cell_type": "markdown",
      "metadata": {
        "id": "zrv5Z7qt6DV5"
      },
      "source": [
        "The above accuracy result shows us that a model which is 83% accurate at classifying class 1 vs not class 1 . It is 100% accurate at classifying just NOT Class 1 that is class 2 and 3. "
      ]
    },
    {
      "cell_type": "code",
      "metadata": {
        "colab": {
          "base_uri": "https://localhost:8080/"
        },
        "id": "_Jtk0ucOb48V",
        "outputId": "80199107-0190-4b92-e9b2-10dd113d2832"
      },
      "source": [
        "print(classification_report(pipeline_dc_1.predict(x_test_1),y_test_1))"
      ],
      "execution_count": 56,
      "outputs": [
        {
          "output_type": "stream",
          "text": [
            "/usr/local/lib/python3.7/dist-packages/sklearn/metrics/_classification.py:1272: UndefinedMetricWarning: Recall and F-score are ill-defined and being set to 0.0 in labels with no true samples. Use `zero_division` parameter to control this behavior.\n",
            "  _warn_prf(average, modifier, msg_start, len(result))\n"
          ],
          "name": "stderr"
        },
        {
          "output_type": "stream",
          "text": [
            "              precision    recall  f1-score   support\n",
            "\n",
            "           0       1.00      0.83      0.91    240000\n",
            "           1       0.00      0.00      0.00         0\n",
            "\n",
            "    accuracy                           0.83    240000\n",
            "   macro avg       0.50      0.42      0.45    240000\n",
            "weighted avg       1.00      0.83      0.91    240000\n",
            "\n"
          ],
          "name": "stdout"
        }
      ]
    },
    {
      "cell_type": "code",
      "metadata": {
        "colab": {
          "base_uri": "https://localhost:8080/"
        },
        "id": "O7VZC6ascFzT",
        "outputId": "7635c3f9-3340-476f-d0ec-b727b5fd245b"
      },
      "source": [
        "print(metrics.confusion_matrix(pipeline_dc_1.predict(x_test_1),y_test_1))"
      ],
      "execution_count": 57,
      "outputs": [
        {
          "output_type": "stream",
          "text": [
            "[[199849  40151]\n",
            " [     0      0]]\n"
          ],
          "name": "stdout"
        }
      ]
    },
    {
      "cell_type": "markdown",
      "metadata": {
        "id": "uINb5n1DXSA4"
      },
      "source": [
        "Model training for class 2 and not class 2"
      ]
    },
    {
      "cell_type": "code",
      "metadata": {
        "colab": {
          "base_uri": "https://localhost:8080/"
        },
        "id": "R3-IuApHWoMz",
        "outputId": "2fb2dd65-cb2a-4f91-a761-13113fd98d7b"
      },
      "source": [
        "pipeline_dc_2= Pipeline(steps=[('scaler',StandardScaler()), ('pca',PCA(n_components=1)), ('classifier',DecisionTreeClassifier(max_depth=3))])\n",
        "dc_model_2= pipeline_dc_2.fit(x_train_2, y_train_2)\n",
        "\n",
        "\n",
        "print(dc_model_2.score(x_test_2,y_test_2))"
      ],
      "execution_count": 64,
      "outputs": [
        {
          "output_type": "stream",
          "text": [
            "0.5019291666666666\n"
          ],
          "name": "stdout"
        }
      ]
    },
    {
      "cell_type": "markdown",
      "metadata": {
        "id": "AKmi_X4C6imR"
      },
      "source": [
        "Above model is 50.23 % accurate at classifying class 2 versus not class 2 ( that is class 1 and 2)"
      ]
    },
    {
      "cell_type": "markdown",
      "metadata": {
        "id": "RGHhYhMU7C_2"
      },
      "source": [
        "Now run the same above model on classes with Only 'NOT 2' that is class 0(clsses 1 &3)"
      ]
    },
    {
      "cell_type": "code",
      "metadata": {
        "colab": {
          "base_uri": "https://localhost:8080/"
        },
        "id": "1OWFifyaXVud",
        "outputId": "6e26ae3d-4041-454f-b81c-b1bf3b5ee443"
      },
      "source": [
        "#Now run the same above model on classes with only NOT 2 that is class 0(1 &3)\n",
        "print(dc_model_2.score(x_test_13,y_test_13))"
      ],
      "execution_count": 59,
      "outputs": [
        {
          "output_type": "stream",
          "text": [
            "0.8957762889600932\n"
          ],
          "name": "stdout"
        }
      ]
    },
    {
      "cell_type": "markdown",
      "metadata": {
        "id": "XL19aJg07Sl4"
      },
      "source": [
        "This model is 89.57% accurate at classifying the NOT class 2 classes( that is class 1 and 3 )"
      ]
    },
    {
      "cell_type": "markdown",
      "metadata": {
        "id": "14Yeaxria4-W"
      },
      "source": [
        "Model training for class 3 and not 3"
      ]
    },
    {
      "cell_type": "code",
      "metadata": {
        "colab": {
          "base_uri": "https://localhost:8080/"
        },
        "id": "SkJEr5qBXuPr",
        "outputId": "4e357a52-e8e0-4e1a-f09e-ff97a21aa132"
      },
      "source": [
        "pipeline_dc_3= Pipeline(steps=[('scaler',StandardScaler()), ('pca',PCA(n_components=1)), ('classifier',DecisionTreeClassifier(max_depth=3))])\n",
        "dc_model_3= pipeline_dc_3.fit(x_train_3, y_train_3)\n",
        "\n",
        "\n",
        "print(dc_model_3.score(x_test_3,y_test_3))"
      ],
      "execution_count": 65,
      "outputs": [
        {
          "output_type": "stream",
          "text": [
            "0.6649333333333334\n"
          ],
          "name": "stdout"
        }
      ]
    },
    {
      "cell_type": "markdown",
      "metadata": {
        "id": "xAsaiLFM71zM"
      },
      "source": [
        "The above model has 66.49% accuracy to identify class 3 and not class 3 (classes 1 and 2)."
      ]
    },
    {
      "cell_type": "code",
      "metadata": {
        "colab": {
          "base_uri": "https://localhost:8080/"
        },
        "id": "5ubQ4fa_bD31",
        "outputId": "380ddfdb-040a-45b3-e0aa-9290099ba135"
      },
      "source": [
        "#Now run the same above model on classes with only NOT 3 that is class 0(1 &2)\n",
        "print(dc_model_3.score(x_test_12,y_test_12))"
      ],
      "execution_count": 66,
      "outputs": [
        {
          "output_type": "stream",
          "text": [
            "1.0\n"
          ],
          "name": "stdout"
        }
      ]
    },
    {
      "cell_type": "markdown",
      "metadata": {
        "id": "Tv9UpRoH8SxG"
      },
      "source": [
        "The previous model when tested for Not class 3 (class 1 and 2) it produces 100% accuracy. "
      ]
    },
    {
      "cell_type": "markdown",
      "metadata": {
        "id": "Xp9Molss8hz0"
      },
      "source": [
        "From the above three models , I observed that these models are very accurate at predicting the NOT class (1 , 2 or 3). But they are poor at classifying the real class. This might a resourceful information which can be used to construct our final model. "
      ]
    },
    {
      "cell_type": "markdown",
      "metadata": {
        "id": "V2OH-PRt8Fxv"
      },
      "source": [
        "Now, I have build a model for binary classification of class 2 vs class 3. "
      ]
    },
    {
      "cell_type": "code",
      "metadata": {
        "colab": {
          "base_uri": "https://localhost:8080/"
        },
        "id": "et0LRrD0MsGM",
        "outputId": "3cae06eb-ba6c-4190-9f82-f02715b4de07"
      },
      "source": [
        "#Decision tree for classes 2 vs class 3\n",
        "pipeline_dc_2v3= Pipeline(steps=[('scaler',StandardScaler()), ('pca',PCA(n_components=1)), ('classifier',DecisionTreeClassifier(max_depth=3))])\n",
        "dc_model_2v3= pipeline_dc_2v3.fit(x_train_2v3, y_train_2v3)\n",
        "\n",
        "\n",
        "print(dc_model_2v3.score(x_test_2v3,y_test_2v3))"
      ],
      "execution_count": 67,
      "outputs": [
        {
          "output_type": "stream",
          "text": [
            "0.5996190038099619\n"
          ],
          "name": "stdout"
        }
      ]
    },
    {
      "cell_type": "markdown",
      "metadata": {
        "id": "Xi4u5Lrj9Xce"
      },
      "source": [
        "The above model has got 59.96% accuracy at classifying class 2 and class 3."
      ]
    },
    {
      "cell_type": "code",
      "metadata": {
        "id": "zLSSxzhcNio4"
      },
      "source": [
        ""
      ],
      "execution_count": null,
      "outputs": []
    },
    {
      "cell_type": "markdown",
      "metadata": {
        "id": "-8WfoBcj9iel"
      },
      "source": [
        "[4.2] Feature Engineering : To drill down the features I have implemented sklearn feature selection technique of SelectKBest features. "
      ]
    },
    {
      "cell_type": "markdown",
      "metadata": {
        "id": "yxviqHpre2q_"
      },
      "source": [
        "Before passing the dataset into the feature selector I have performed normalization of values using MinMaxScaler "
      ]
    },
    {
      "cell_type": "code",
      "metadata": {
        "id": "8geH0V7He2F0"
      },
      "source": [
        "#Min max scalar - normalization\n",
        "minmax_scalar = MinMaxScaler()\n",
        "training_minmx_scaled_og = minmax_scalar.fit_transform(x_train_og)\n",
        "\n",
        "x_train_minmax_scaled_og = training_minmx_scaled_og"
      ],
      "execution_count": 68,
      "outputs": []
    },
    {
      "cell_type": "code",
      "metadata": {
        "colab": {
          "base_uri": "https://localhost:8080/"
        },
        "id": "6JK06audfUde",
        "outputId": "753e1c41-a9ee-4b81-fbaf-cf8134a8be6c"
      },
      "source": [
        "print(training_minmx_scaled_og[0])"
      ],
      "execution_count": 69,
      "outputs": [
        {
          "output_type": "stream",
          "text": [
            "[0.90692157 0.8606452  0.9017326  0.73778793 0.89124714 0.87763257\n",
            " 0.83321182 0.88321973 0.73142778 0.89347264 0.82980411 0.71561456\n",
            " 0.58024969 0.8274207  0.88963752]\n"
          ],
          "name": "stdout"
        }
      ]
    },
    {
      "cell_type": "markdown",
      "metadata": {
        "id": "NvG9hTLY-n-y"
      },
      "source": [
        "Now, let's perform SelectKBest on the entire dataframe. "
      ]
    },
    {
      "cell_type": "code",
      "metadata": {
        "colab": {
          "base_uri": "https://localhost:8080/"
        },
        "id": "tG2wEcJbfbt2",
        "outputId": "4935997e-25e2-4a86-86f3-7433fa3659e2"
      },
      "source": [
        "# Select K best features from data_df\n",
        "\n",
        "x_train_og_new = SelectKBest(score_func=chi2, k=5).fit_transform(x_train_minmax_scaled_og,y_train_og)\n",
        "\n",
        "print(x_train_og_new[0])\n",
        "\n"
      ],
      "execution_count": 70,
      "outputs": [
        {
          "output_type": "stream",
          "text": [
            "[0.90692157 0.9017326  0.89124714 0.88321973 0.82980411]\n"
          ],
          "name": "stdout"
        }
      ]
    },
    {
      "cell_type": "markdown",
      "metadata": {
        "id": "jSsknEsZfqnU"
      },
      "source": [
        "Mapping above values with dataset we get features A , C , E , H , K as the most optimal ones."
      ]
    },
    {
      "cell_type": "code",
      "metadata": {
        "id": "b4PBuwgPfqWw"
      },
      "source": [
        "x_final_kb =  data_df[['A','C','E','H','K']]\n",
        "\n",
        "y_final_kb = data_df['Class']\n",
        "x_train_kb , x_test_kb, y_train_kb , y_test_kb = train_test_split(x_final_kb, y_final_kb, stratify = y_final_kb , test_size= 0.2)\n",
        "\n"
      ],
      "execution_count": 85,
      "outputs": []
    },
    {
      "cell_type": "code",
      "metadata": {
        "id": "wPSJjA14lFNU"
      },
      "source": [
        "training_data_kb = pd.concat([x_final_kb,y_final_kb], axis=1)"
      ],
      "execution_count": 86,
      "outputs": []
    },
    {
      "cell_type": "code",
      "metadata": {
        "colab": {
          "base_uri": "https://localhost:8080/",
          "height": 235
        },
        "id": "BqbVuulUoX_m",
        "outputId": "9afda53e-764d-4640-b5f9-f61b3e5466b9"
      },
      "source": [
        "training_data_kb.corr()"
      ],
      "execution_count": 87,
      "outputs": [
        {
          "output_type": "execute_result",
          "data": {
            "text/html": [
              "<div>\n",
              "<style scoped>\n",
              "    .dataframe tbody tr th:only-of-type {\n",
              "        vertical-align: middle;\n",
              "    }\n",
              "\n",
              "    .dataframe tbody tr th {\n",
              "        vertical-align: top;\n",
              "    }\n",
              "\n",
              "    .dataframe thead th {\n",
              "        text-align: right;\n",
              "    }\n",
              "</style>\n",
              "<table border=\"1\" class=\"dataframe\">\n",
              "  <thead>\n",
              "    <tr style=\"text-align: right;\">\n",
              "      <th></th>\n",
              "      <th>A</th>\n",
              "      <th>C</th>\n",
              "      <th>E</th>\n",
              "      <th>H</th>\n",
              "      <th>K</th>\n",
              "      <th>Class</th>\n",
              "    </tr>\n",
              "  </thead>\n",
              "  <tbody>\n",
              "    <tr>\n",
              "      <th>A</th>\n",
              "      <td>1.000000</td>\n",
              "      <td>0.991999</td>\n",
              "      <td>0.990703</td>\n",
              "      <td>0.988807</td>\n",
              "      <td>0.968827</td>\n",
              "      <td>-0.000620</td>\n",
              "    </tr>\n",
              "    <tr>\n",
              "      <th>C</th>\n",
              "      <td>0.991999</td>\n",
              "      <td>1.000000</td>\n",
              "      <td>0.971805</td>\n",
              "      <td>0.968342</td>\n",
              "      <td>0.937868</td>\n",
              "      <td>-0.000686</td>\n",
              "    </tr>\n",
              "    <tr>\n",
              "      <th>E</th>\n",
              "      <td>0.990703</td>\n",
              "      <td>0.971805</td>\n",
              "      <td>1.000000</td>\n",
              "      <td>0.997116</td>\n",
              "      <td>0.989217</td>\n",
              "      <td>-0.000649</td>\n",
              "    </tr>\n",
              "    <tr>\n",
              "      <th>H</th>\n",
              "      <td>0.988807</td>\n",
              "      <td>0.968342</td>\n",
              "      <td>0.997116</td>\n",
              "      <td>1.000000</td>\n",
              "      <td>0.990875</td>\n",
              "      <td>-0.000670</td>\n",
              "    </tr>\n",
              "    <tr>\n",
              "      <th>K</th>\n",
              "      <td>0.968827</td>\n",
              "      <td>0.937868</td>\n",
              "      <td>0.989217</td>\n",
              "      <td>0.990875</td>\n",
              "      <td>1.000000</td>\n",
              "      <td>-0.000693</td>\n",
              "    </tr>\n",
              "    <tr>\n",
              "      <th>Class</th>\n",
              "      <td>-0.000620</td>\n",
              "      <td>-0.000686</td>\n",
              "      <td>-0.000649</td>\n",
              "      <td>-0.000670</td>\n",
              "      <td>-0.000693</td>\n",
              "      <td>1.000000</td>\n",
              "    </tr>\n",
              "  </tbody>\n",
              "</table>\n",
              "</div>"
            ],
            "text/plain": [
              "              A         C         E         H         K     Class\n",
              "A      1.000000  0.991999  0.990703  0.988807  0.968827 -0.000620\n",
              "C      0.991999  1.000000  0.971805  0.968342  0.937868 -0.000686\n",
              "E      0.990703  0.971805  1.000000  0.997116  0.989217 -0.000649\n",
              "H      0.988807  0.968342  0.997116  1.000000  0.990875 -0.000670\n",
              "K      0.968827  0.937868  0.989217  0.990875  1.000000 -0.000693\n",
              "Class -0.000620 -0.000686 -0.000649 -0.000670 -0.000693  1.000000"
            ]
          },
          "metadata": {
            "tags": []
          },
          "execution_count": 87
        }
      ]
    },
    {
      "cell_type": "markdown",
      "metadata": {
        "id": "iZNC96PQ_AwA"
      },
      "source": [
        "Looking at the correlation between selected features, we can observe that feature A and C , feature E and H are higly correlated to each other. But all these features are negatively correlated to the class labels."
      ]
    },
    {
      "cell_type": "code",
      "metadata": {
        "colab": {
          "base_uri": "https://localhost:8080/"
        },
        "id": "pyN2M3TljL_L",
        "outputId": "7770b388-c934-4e4e-a41e-07470c62987f"
      },
      "source": [
        "#Decision tree for entire df with k best features \n",
        "pipeline_dc_kb= Pipeline(steps=[('scaler',StandardScaler()), ('pca',PCA(n_components=1)), ('classifier',DecisionTreeClassifier(max_depth=3))])\n",
        "dc_model_kb= pipeline_dc_kb.fit(x_train_kb, y_train_kb)\n",
        "\n",
        "\n",
        "print(dc_model_kb.score(x_test_kb,y_test_kb))"
      ],
      "execution_count": 88,
      "outputs": [
        {
          "output_type": "stream",
          "text": [
            "0.49935\n"
          ],
          "name": "stdout"
        }
      ]
    },
    {
      "cell_type": "markdown",
      "metadata": {
        "id": "TwVOySCX_Tqs"
      },
      "source": [
        "Training a Decision tree classifer on 5 Best features we get 49.93% accuracy "
      ]
    },
    {
      "cell_type": "markdown",
      "metadata": {
        "id": "c3ET0v1ZTm8X"
      },
      "source": [
        "As a part of Feature Engineering I tried a  Non linear Combination of the selected 5 best features. "
      ]
    },
    {
      "cell_type": "code",
      "metadata": {
        "id": "aNO-BLVi7HCg"
      },
      "source": [
        "#Non linear combination of K best features of the entire dataset [A , C ,E ,H ,K]\n",
        "p , q, r , s = [],[],[],[]\n",
        "for index, row in training_data_kb.iterrows(): \n",
        "  p.append(row.A * row.C)\n",
        "  q.append(row.E * row.K)\n",
        "  r.append(row.C * row.K)\n",
        "  s.append(row.A * row.K)\n",
        "\n",
        "\n"
      ],
      "execution_count": 76,
      "outputs": []
    },
    {
      "cell_type": "markdown",
      "metadata": {
        "id": "6scjq7I2AHYh"
      },
      "source": [
        "Concatenating new features P, Q ,R & S to our previous data frame."
      ]
    },
    {
      "cell_type": "code",
      "metadata": {
        "id": "oPYxa1xN7G_O"
      },
      "source": [
        "training_data_kb['P'] = p\n",
        "training_data_kb['Q'] = q\n",
        "training_data_kb['R'] = r\n",
        "training_data_kb['S'] = s\n"
      ],
      "execution_count": 90,
      "outputs": []
    },
    {
      "cell_type": "code",
      "metadata": {
        "colab": {
          "base_uri": "https://localhost:8080/",
          "height": 204
        },
        "id": "oHgax6_gmwX4",
        "outputId": "92fa48a9-e99e-4bb2-ef01-c95c7a7a5404"
      },
      "source": [
        "training_data_kb.head()"
      ],
      "execution_count": 91,
      "outputs": [
        {
          "output_type": "execute_result",
          "data": {
            "text/html": [
              "<div>\n",
              "<style scoped>\n",
              "    .dataframe tbody tr th:only-of-type {\n",
              "        vertical-align: middle;\n",
              "    }\n",
              "\n",
              "    .dataframe tbody tr th {\n",
              "        vertical-align: top;\n",
              "    }\n",
              "\n",
              "    .dataframe thead th {\n",
              "        text-align: right;\n",
              "    }\n",
              "</style>\n",
              "<table border=\"1\" class=\"dataframe\">\n",
              "  <thead>\n",
              "    <tr style=\"text-align: right;\">\n",
              "      <th></th>\n",
              "      <th>A</th>\n",
              "      <th>C</th>\n",
              "      <th>E</th>\n",
              "      <th>H</th>\n",
              "      <th>K</th>\n",
              "      <th>Class</th>\n",
              "      <th>P</th>\n",
              "      <th>Q</th>\n",
              "      <th>R</th>\n",
              "      <th>S</th>\n",
              "    </tr>\n",
              "  </thead>\n",
              "  <tbody>\n",
              "    <tr>\n",
              "      <th>0</th>\n",
              "      <td>231.420023</td>\n",
              "      <td>217.624839</td>\n",
              "      <td>140.047185</td>\n",
              "      <td>198.160805</td>\n",
              "      <td>224.592926</td>\n",
              "      <td>2</td>\n",
              "      <td>50362.745196</td>\n",
              "      <td>31453.607184</td>\n",
              "      <td>48876.999387</td>\n",
              "      <td>51975.300090</td>\n",
              "    </tr>\n",
              "    <tr>\n",
              "      <th>1</th>\n",
              "      <td>-38.019270</td>\n",
              "      <td>9.583547</td>\n",
              "      <td>-25.578283</td>\n",
              "      <td>-33.711852</td>\n",
              "      <td>4.199023</td>\n",
              "      <td>3</td>\n",
              "      <td>-364.359441</td>\n",
              "      <td>-107.403799</td>\n",
              "      <td>40.241533</td>\n",
              "      <td>-159.643791</td>\n",
              "    </tr>\n",
              "    <tr>\n",
              "      <th>2</th>\n",
              "      <td>-39.197085</td>\n",
              "      <td>21.023083</td>\n",
              "      <td>-25.902587</td>\n",
              "      <td>-25.299219</td>\n",
              "      <td>5.911292</td>\n",
              "      <td>2</td>\n",
              "      <td>-824.043581</td>\n",
              "      <td>-153.117747</td>\n",
              "      <td>124.273575</td>\n",
              "      <td>-231.705404</td>\n",
              "    </tr>\n",
              "    <tr>\n",
              "      <th>3</th>\n",
              "      <td>221.630408</td>\n",
              "      <td>216.725322</td>\n",
              "      <td>126.795177</td>\n",
              "      <td>197.640135</td>\n",
              "      <td>212.989231</td>\n",
              "      <td>2</td>\n",
              "      <td>48032.921455</td>\n",
              "      <td>27006.007214</td>\n",
              "      <td>46160.159759</td>\n",
              "      <td>47204.890157</td>\n",
              "    </tr>\n",
              "    <tr>\n",
              "      <th>4</th>\n",
              "      <td>228.558412</td>\n",
              "      <td>204.637218</td>\n",
              "      <td>138.930529</td>\n",
              "      <td>209.300011</td>\n",
              "      <td>201.795100</td>\n",
              "      <td>3</td>\n",
              "      <td>46771.557449</td>\n",
              "      <td>28035.499918</td>\n",
              "      <td>41294.787734</td>\n",
              "      <td>46121.967528</td>\n",
              "    </tr>\n",
              "  </tbody>\n",
              "</table>\n",
              "</div>"
            ],
            "text/plain": [
              "            A           C           E  ...             Q             R             S\n",
              "0  231.420023  217.624839  140.047185  ...  31453.607184  48876.999387  51975.300090\n",
              "1  -38.019270    9.583547  -25.578283  ...   -107.403799     40.241533   -159.643791\n",
              "2  -39.197085   21.023083  -25.902587  ...   -153.117747    124.273575   -231.705404\n",
              "3  221.630408  216.725322  126.795177  ...  27006.007214  46160.159759  47204.890157\n",
              "4  228.558412  204.637218  138.930529  ...  28035.499918  41294.787734  46121.967528\n",
              "\n",
              "[5 rows x 10 columns]"
            ]
          },
          "metadata": {
            "tags": []
          },
          "execution_count": 91
        }
      ]
    },
    {
      "cell_type": "code",
      "metadata": {
        "id": "32UNE96dmvs4"
      },
      "source": [
        "x_nl_kb =  training_data_kb[['A','C','E','H','K','P','Q','R','S']]\n",
        "\n",
        "y_nl_kb = training_data_kb['Class']\n",
        "\n",
        "x_train_nl_kb , x_test_nl_kb, y_train_nl_kb , y_test_nl_kb = train_test_split(x_nl_kb, y_nl_kb, stratify = y_nl_kb , test_size= 0.2)"
      ],
      "execution_count": 92,
      "outputs": []
    },
    {
      "cell_type": "code",
      "metadata": {
        "colab": {
          "base_uri": "https://localhost:8080/"
        },
        "id": "LKcs4cfvnh-d",
        "outputId": "e00dc202-574d-4261-8176-1bd3a4943944"
      },
      "source": [
        "#Decision tree for entire df with k best features \n",
        "pipeline_dc_nl_kb= Pipeline(steps=[('scaler',StandardScaler()), ('pca',PCA(n_components=1)), ('classifier',DecisionTreeClassifier(max_depth=3))])\n",
        "dc_model_nl_kb= pipeline_dc_nl_kb.fit(x_train_nl_kb, y_train_nl_kb)\n",
        "\n",
        "\n",
        "print(dc_model_nl_kb.score(x_test_nl_kb,y_test_nl_kb))"
      ],
      "execution_count": 94,
      "outputs": [
        {
          "output_type": "stream",
          "text": [
            "0.499375\n"
          ],
          "name": "stdout"
        }
      ]
    },
    {
      "cell_type": "markdown",
      "metadata": {
        "id": "DjM9WTBKAXa1"
      },
      "source": [
        "The Non linear combination of features did not show any difference on the accuracy of the model."
      ]
    },
    {
      "cell_type": "markdown",
      "metadata": {
        "id": "xo2t5PzWGrKs"
      },
      "source": [
        "**[5] Conclusion**"
      ]
    },
    {
      "cell_type": "markdown",
      "metadata": {
        "id": "LY5BX0QWGxd9"
      },
      "source": [
        "After experimenting with the dataset I have chosen the original model as my final model. Although these were some intresting results while implmenting Binary Classifcation anf Non Linear combination of features, I think there can be a lot of insights that can be yet drawn from rhis analysis. This project was a very interesting execerise on how to deal with real time datasets. Extartcing fruitful insights from data is a very crucial taks. I think before jumping into machine learning algorithms, we should to know our Data First. "
      ]
    },
    {
      "cell_type": "markdown",
      "metadata": {
        "id": "6IYTH-FHIHay"
      },
      "source": [
        "[5.1] Positive and Negative results : I realised that by performing binary classification we can get high accuracy. We can look at multi class labaled dataset as  Binary Classification problem of One-vs-Rest classes. "
      ]
    },
    {
      "cell_type": "markdown",
      "metadata": {
        "id": "RM1A_VZgI1Fo"
      },
      "source": [
        "**[6] Final Model**"
      ]
    },
    {
      "cell_type": "markdown",
      "metadata": {
        "id": "NCzF7KHXJFG7"
      },
      "source": [
        "For the final model i will be selecting all the features (15 features) and perfomin a Standard scalar , PCA with n components = 1 and finally a Decision Tree Classifier."
      ]
    },
    {
      "cell_type": "code",
      "metadata": {
        "colab": {
          "base_uri": "https://localhost:8080/"
        },
        "id": "PnchyVpdVOqM",
        "outputId": "5105ec23-e64c-4eff-97b0-727c0960b7aa"
      },
      "source": [
        "final_pipeline= Pipeline(steps=[('scaler',StandardScaler()), ('pca',PCA(n_components=1)), ('classifier',DecisionTreeClassifier(max_depth=3))])\n",
        "final_dc_model= final_pipeline.fit(x_train_og, y_train_og)\n",
        "\n",
        "\n",
        "print(final_dc_model.score(x_test_og,y_test_og))"
      ],
      "execution_count": 95,
      "outputs": [
        {
          "output_type": "stream",
          "text": [
            "0.49755\n"
          ],
          "name": "stdout"
        }
      ]
    },
    {
      "cell_type": "markdown",
      "metadata": {
        "id": "Ed1DpVoVJncP"
      },
      "source": [
        "We are getting a Test accuracy of 49.75% on the entire dataset."
      ]
    },
    {
      "cell_type": "markdown",
      "metadata": {
        "id": "ACGnttmpJwqp"
      },
      "source": [
        "Saving the Final Pipeline to a ONNX file ,"
      ]
    },
    {
      "cell_type": "code",
      "metadata": {
        "id": "RPCDd2ZiqoJ9"
      },
      "source": [
        "onnx_file_path = '/content/drive/My Drive/CS422_DataMining/YashGupte_final_model.onnx'\n",
        "\n",
        "num_features = 15\n",
        "input_type = [('float_input', FloatTensorType([None, num_features]))]\n",
        "onx_model = convert_sklearn(final_pipeline, initial_types= input_type)\n",
        "with open(onnx_file_path, 'wb') as f :\n",
        "  f.write(onx_model.SerializeToString())"
      ],
      "execution_count": 96,
      "outputs": []
    },
    {
      "cell_type": "markdown",
      "metadata": {
        "id": "SqCcvz8sLx_1"
      },
      "source": [
        "Computing prediction with ONNX Runtime"
      ]
    },
    {
      "cell_type": "code",
      "metadata": {
        "id": "VsH3nIewqoHO",
        "colab": {
          "base_uri": "https://localhost:8080/"
        },
        "outputId": "2ce839fe-bcc2-4918-b329-4d84606796f6"
      },
      "source": [
        "sess = rt.InferenceSession(onnx_file_path)\n",
        "input_name = sess.get_inputs()[0].name\n",
        "label_name = sess.get_outputs()[0].name\n",
        "\n",
        "\n",
        "prediction_onnx = sess.run(None, {input_name: x_test_og.values.astype(np.float32)})[0]\n",
        "\n",
        "print(prediction_onnx)"
      ],
      "execution_count": 98,
      "outputs": [
        {
          "output_type": "stream",
          "text": [
            "[2 2 2 ... 2 2 2]\n"
          ],
          "name": "stdout"
        }
      ]
    },
    {
      "cell_type": "markdown",
      "metadata": {
        "id": "v25QU-HSsxmW"
      },
      "source": [
        "**Bibliography :** \\\n",
        "\n",
        "References or Citations \\\n",
        "[1] https://scikit-learn.org/stable/ \\\n",
        "\n",
        "\n",
        "[2] https://scikit-learn.org/stable/modules/generated/sklearn.preprocessing.MinMaxScaler.html \\\n",
        "\n",
        "[3] https://scikit-learn.org/stable/modules/generated/sklearn.preprocessing.StandardScaler.html \\\n",
        "\n",
        "[4] https://scikit-learn.org/stable/modules/generated/sklearn.decomposition.PCA.html \\\n",
        "\n",
        "[5] https://scikit-learn.org/stable/modules/generated/sklearn.feature_selection.SelectKBest.html \\\n",
        "\n",
        "[6] https://scikit-learn.org/stable/modules/generated/sklearn.tree.DecisionTreeClassifier.html \\\n",
        "\n",
        "[7] https://scikit-learn.org/stable/modules/generated/sklearn.ensemble.RandomForestClassifier.html \\\n",
        "\n"
      ]
    },
    {
      "cell_type": "code",
      "metadata": {
        "id": "1jT21AC-YXf3"
      },
      "source": [
        ""
      ],
      "execution_count": null,
      "outputs": []
    }
  ]
}